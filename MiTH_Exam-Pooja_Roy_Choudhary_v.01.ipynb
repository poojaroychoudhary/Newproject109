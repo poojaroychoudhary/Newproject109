{
 "cells": [
  {
   "cell_type": "markdown",
   "metadata": {},
   "source": [
    "### Problem Description:\n",
    "InsureNow is a leading commercial Insurance provider with PAN India presence, The\n",
    "company wants to build a prediction algorithm based on a subset of data from 2002 to\n",
    "2009."
   ]
  },
  {
   "cell_type": "markdown",
   "metadata": {},
   "source": [
    "### Data Description:\n",
    "The dataset has 12 columns across 3 datasets:"
   ]
  },
  {
   "cell_type": "markdown",
   "metadata": {},
   "source": [
    "### Evaluation Metric: Recall"
   ]
  },
  {
   "cell_type": "markdown",
   "metadata": {},
   "source": [
    "### Disposition - Target Variable - States if the Claim has been Approved, Settled or Denied"
   ]
  },
  {
   "cell_type": "markdown",
   "metadata": {},
   "source": [
    "# Import the libraries"
   ]
  },
  {
   "cell_type": "code",
   "execution_count": 1,
   "metadata": {},
   "outputs": [],
   "source": [
    "import os\n",
    "import numpy as np\n",
    "import pandas as pd\n",
    "from sklearn import preprocessing\n",
    "from sklearn.impute import SimpleImputer\n",
    "from sklearn.compose import ColumnTransformer\n",
    "from sklearn.model_selection import train_test_split\n",
    "from sklearn.pipeline import Pipeline\n",
    "from sklearn.model_selection import GridSearchCV, cross_val_score, StratifiedKFold\n",
    "from sklearn.tree import DecisionTreeClassifier\n",
    "from sklearn.ensemble import RandomForestClassifier\n",
    "from sklearn.svm import SVC\n",
    "from sklearn.linear_model import LogisticRegression\n",
    "from sklearn.ensemble import GradientBoostingClassifier\n",
    "from sklearn.ensemble import AdaBoostClassifier\n",
    "from sklearn.metrics import confusion_matrix\n",
    "from sklearn.metrics import classification_report\n",
    "import matplotlib.pyplot as plt\n",
    "import seaborn as sns\n",
    "from sklearn.metrics import accuracy_score, recall_score, precision_score, f1_score, classification_report\n",
    "from sklearn.preprocessing import StandardScaler, OneHotEncoder, LabelEncoder"
   ]
  },
  {
   "cell_type": "code",
   "execution_count": 2,
   "metadata": {},
   "outputs": [],
   "source": [
    "import warnings\n",
    "warnings.filterwarnings('ignore')"
   ]
  },
  {
   "cell_type": "markdown",
   "metadata": {},
   "source": [
    "### Read The Dataset"
   ]
  },
  {
   "cell_type": "code",
   "execution_count": 3,
   "metadata": {},
   "outputs": [],
   "source": [
    "df_claim=pd.read_csv(\"/home/datasets/lab/MiTH/Insurance_Claim_Info_data.csv\")\n",
    "df_date=pd.read_csv(\"/home/datasets/lab/MiTH/Insurance_Date_data.csv\")\n",
    "df_result=pd.read_csv(\"/home/datasets/lab/MiTH/Insurance_Result_data.csv\")\n",
    "df_test=pd.read_excel(\"/home/datasets/lab/MiTH/test_data.xlsx\")"
   ]
  },
  {
   "cell_type": "markdown",
   "metadata": {},
   "source": [
    "### Number of rows and columns"
   ]
  },
  {
   "cell_type": "code",
   "execution_count": 4,
   "metadata": {},
   "outputs": [
    {
     "name": "stdout",
     "output_type": "stream",
     "text": [
      "(34110, 7)\n",
      "(34110, 3)\n",
      "(34110, 4)\n",
      "(3791, 9)\n"
     ]
    }
   ],
   "source": [
    "print(df_claim.shape)\n",
    "print(df_date.shape)\n",
    "print(df_result.shape)\n",
    "print(df_test.shape)"
   ]
  },
  {
   "cell_type": "code",
   "execution_count": 5,
   "metadata": {},
   "outputs": [
    {
     "data": {
      "text/plain": [
       "Index(['Claim Number', 'City Code', 'City', 'Enterprise Type', 'Claim Type',\n",
       "       'Claim Site', 'Product Insured'],\n",
       "      dtype='object')"
      ]
     },
     "execution_count": 5,
     "metadata": {},
     "output_type": "execute_result"
    }
   ],
   "source": [
    "df_claim.columns"
   ]
  },
  {
   "cell_type": "markdown",
   "metadata": {},
   "source": [
    "### Merge the data"
   ]
  },
  {
   "cell_type": "code",
   "execution_count": 6,
   "metadata": {},
   "outputs": [],
   "source": [
    "df_merge = pd.merge(df_claim, df_result, on=\"Claim Number\")"
   ]
  },
  {
   "cell_type": "code",
   "execution_count": 7,
   "metadata": {},
   "outputs": [],
   "source": [
    "df_final = pd.merge(df_merge, df_date, on=\"Claim Number\")"
   ]
  },
  {
   "cell_type": "markdown",
   "metadata": {},
   "source": [
    "### Number of rows and columns of merged data "
   ]
  },
  {
   "cell_type": "code",
   "execution_count": 8,
   "metadata": {},
   "outputs": [
    {
     "data": {
      "text/plain": [
       "(34110, 12)"
      ]
     },
     "execution_count": 8,
     "metadata": {},
     "output_type": "execute_result"
    }
   ],
   "source": [
    "df_final.shape"
   ]
  },
  {
   "cell_type": "code",
   "execution_count": 9,
   "metadata": {},
   "outputs": [
    {
     "data": {
      "text/html": [
       "<div>\n",
       "<style scoped>\n",
       "    .dataframe tbody tr th:only-of-type {\n",
       "        vertical-align: middle;\n",
       "    }\n",
       "\n",
       "    .dataframe tbody tr th {\n",
       "        vertical-align: top;\n",
       "    }\n",
       "\n",
       "    .dataframe thead th {\n",
       "        text-align: right;\n",
       "    }\n",
       "</style>\n",
       "<table border=\"1\" class=\"dataframe\">\n",
       "  <thead>\n",
       "    <tr style=\"text-align: right;\">\n",
       "      <th></th>\n",
       "      <th>Claim Number</th>\n",
       "      <th>City Code</th>\n",
       "      <th>City</th>\n",
       "      <th>Enterprise Type</th>\n",
       "      <th>Claim Type</th>\n",
       "      <th>Claim Site</th>\n",
       "      <th>Product Insured</th>\n",
       "      <th>Claim Amount</th>\n",
       "      <th>Close Amount</th>\n",
       "      <th>Disposition</th>\n",
       "      <th>Incident Date</th>\n",
       "      <th>Date Received</th>\n",
       "    </tr>\n",
       "  </thead>\n",
       "  <tbody>\n",
       "    <tr>\n",
       "      <th>0</th>\n",
       "      <td>DQW1NZO0PL</td>\n",
       "      <td>NSK</td>\n",
       "      <td>Nashik</td>\n",
       "      <td>Public Limited Company</td>\n",
       "      <td>Property Loss</td>\n",
       "      <td>In Transit</td>\n",
       "      <td>Inventory - Raw Material</td>\n",
       "      <td>490.00</td>\n",
       "      <td>0.00</td>\n",
       "      <td>Deny</td>\n",
       "      <td>25-05-2007</td>\n",
       "      <td>06-07-2007</td>\n",
       "    </tr>\n",
       "    <tr>\n",
       "      <th>1</th>\n",
       "      <td>JS5GAPRN5B</td>\n",
       "      <td>BOM</td>\n",
       "      <td>Mumbai</td>\n",
       "      <td>One Person Company</td>\n",
       "      <td>Property Loss</td>\n",
       "      <td>In Transit</td>\n",
       "      <td>Cameras and other Misc. Security Equipment</td>\n",
       "      <td>300.00</td>\n",
       "      <td>150.00</td>\n",
       "      <td>Settle</td>\n",
       "      <td>17-09-2006</td>\n",
       "      <td>27-09-2006</td>\n",
       "    </tr>\n",
       "    <tr>\n",
       "      <th>2</th>\n",
       "      <td>ZTSVAQSEAQ</td>\n",
       "      <td>LKO</td>\n",
       "      <td>Lucknow</td>\n",
       "      <td>Public Limited Company</td>\n",
       "      <td>Property Loss</td>\n",
       "      <td>In Transit</td>\n",
       "      <td>Fixtures</td>\n",
       "      <td>83.98</td>\n",
       "      <td>83.98</td>\n",
       "      <td>Approve in Full</td>\n",
       "      <td>12-06-2006</td>\n",
       "      <td>17-07-2006</td>\n",
       "    </tr>\n",
       "    <tr>\n",
       "      <th>3</th>\n",
       "      <td>EW7NWHI7LI</td>\n",
       "      <td>DEL</td>\n",
       "      <td>Delhi</td>\n",
       "      <td>Sole Proprietorship</td>\n",
       "      <td>Property Loss</td>\n",
       "      <td>In Transit</td>\n",
       "      <td>Pumps and Motors</td>\n",
       "      <td>507.88</td>\n",
       "      <td>0.00</td>\n",
       "      <td>Deny</td>\n",
       "      <td>13-11-2005</td>\n",
       "      <td>05-12-2005</td>\n",
       "    </tr>\n",
       "    <tr>\n",
       "      <th>4</th>\n",
       "      <td>UJOFDC41EL</td>\n",
       "      <td>DEL</td>\n",
       "      <td>Delhi</td>\n",
       "      <td>One Person Company</td>\n",
       "      <td>Property Loss</td>\n",
       "      <td>In Transit</td>\n",
       "      <td>Misc. Engineering Tools</td>\n",
       "      <td>83.46</td>\n",
       "      <td>41.73</td>\n",
       "      <td>Settle</td>\n",
       "      <td>28-07-2008</td>\n",
       "      <td>12-08-2008</td>\n",
       "    </tr>\n",
       "  </tbody>\n",
       "</table>\n",
       "</div>"
      ],
      "text/plain": [
       "  Claim Number City Code     City         Enterprise Type     Claim Type  \\\n",
       "0   DQW1NZO0PL       NSK   Nashik  Public Limited Company  Property Loss   \n",
       "1   JS5GAPRN5B       BOM   Mumbai      One Person Company  Property Loss   \n",
       "2   ZTSVAQSEAQ       LKO  Lucknow  Public Limited Company  Property Loss   \n",
       "3   EW7NWHI7LI       DEL    Delhi     Sole Proprietorship  Property Loss   \n",
       "4   UJOFDC41EL       DEL    Delhi      One Person Company  Property Loss   \n",
       "\n",
       "   Claim Site                             Product Insured  Claim Amount  \\\n",
       "0  In Transit                    Inventory - Raw Material        490.00   \n",
       "1  In Transit  Cameras and other Misc. Security Equipment        300.00   \n",
       "2  In Transit                                    Fixtures         83.98   \n",
       "3  In Transit                            Pumps and Motors        507.88   \n",
       "4  In Transit                     Misc. Engineering Tools         83.46   \n",
       "\n",
       "   Close Amount      Disposition Incident Date Date Received  \n",
       "0          0.00             Deny    25-05-2007    06-07-2007  \n",
       "1        150.00           Settle    17-09-2006    27-09-2006  \n",
       "2         83.98  Approve in Full    12-06-2006    17-07-2006  \n",
       "3          0.00             Deny    13-11-2005    05-12-2005  \n",
       "4         41.73           Settle    28-07-2008    12-08-2008  "
      ]
     },
     "execution_count": 9,
     "metadata": {},
     "output_type": "execute_result"
    }
   ],
   "source": [
    "df_final.head()"
   ]
  },
  {
   "cell_type": "code",
   "execution_count": 10,
   "metadata": {},
   "outputs": [
    {
     "data": {
      "text/plain": [
       "Index(['Claim Number', 'City Code', 'City', 'Enterprise Type', 'Claim Type',\n",
       "       'Claim Site', 'Product Insured', 'Claim Amount', 'Close Amount',\n",
       "       'Disposition', 'Incident Date', 'Date Received'],\n",
       "      dtype='object')"
      ]
     },
     "execution_count": 10,
     "metadata": {},
     "output_type": "execute_result"
    }
   ],
   "source": [
    "df_final.columns"
   ]
  },
  {
   "cell_type": "code",
   "execution_count": 11,
   "metadata": {},
   "outputs": [
    {
     "data": {
      "text/plain": [
       "Index(['Claim Number', 'Incident Date', 'Date Received', 'City Code', 'City',\n",
       "       'Enterprise Type', 'Claim Type', 'Claim Site', 'Product Insured'],\n",
       "      dtype='object')"
      ]
     },
     "execution_count": 11,
     "metadata": {},
     "output_type": "execute_result"
    }
   ],
   "source": [
    "df_test.columns"
   ]
  },
  {
   "cell_type": "markdown",
   "metadata": {},
   "source": [
    "### Understand the dataset"
   ]
  },
  {
   "cell_type": "code",
   "execution_count": 12,
   "metadata": {},
   "outputs": [
    {
     "data": {
      "text/plain": [
       "Claim Number        object\n",
       "City Code           object\n",
       "City                object\n",
       "Enterprise Type     object\n",
       "Claim Type          object\n",
       "Claim Site          object\n",
       "Product Insured     object\n",
       "Claim Amount       float64\n",
       "Close Amount       float64\n",
       "Disposition         object\n",
       "Incident Date       object\n",
       "Date Received       object\n",
       "dtype: object"
      ]
     },
     "execution_count": 12,
     "metadata": {},
     "output_type": "execute_result"
    }
   ],
   "source": [
    "df_final.dtypes"
   ]
  },
  {
   "cell_type": "markdown",
   "metadata": {},
   "source": [
    "### Finding the unique levels"
   ]
  },
  {
   "cell_type": "code",
   "execution_count": 13,
   "metadata": {},
   "outputs": [
    {
     "data": {
      "text/plain": [
       "Claim Number       34110\n",
       "City Code             23\n",
       "City                  23\n",
       "Enterprise Type       13\n",
       "Claim Type             2\n",
       "Claim Site             3\n",
       "Product Insured       13\n",
       "Claim Amount       11944\n",
       "Close Amount        6509\n",
       "Disposition            3\n",
       "Incident Date       2685\n",
       "Date Received       1832\n",
       "dtype: int64"
      ]
     },
     "execution_count": 13,
     "metadata": {},
     "output_type": "execute_result"
    }
   ],
   "source": [
    "df_final.nunique()"
   ]
  },
  {
   "cell_type": "markdown",
   "metadata": {},
   "source": [
    "#### Dropping Claim Number & City Code"
   ]
  },
  {
   "cell_type": "code",
   "execution_count": 14,
   "metadata": {},
   "outputs": [],
   "source": [
    "df_final.drop(['Claim Number','City Code'], axis=1, inplace=True)"
   ]
  },
  {
   "cell_type": "code",
   "execution_count": 15,
   "metadata": {},
   "outputs": [
    {
     "data": {
      "text/plain": [
       "City                object\n",
       "Enterprise Type     object\n",
       "Claim Type          object\n",
       "Claim Site          object\n",
       "Product Insured     object\n",
       "Claim Amount       float64\n",
       "Close Amount       float64\n",
       "Disposition         object\n",
       "Incident Date       object\n",
       "Date Received       object\n",
       "dtype: object"
      ]
     },
     "execution_count": 15,
     "metadata": {},
     "output_type": "execute_result"
    }
   ],
   "source": [
    "df_final.dtypes"
   ]
  },
  {
   "cell_type": "markdown",
   "metadata": {},
   "source": [
    "### Summary of the dataset"
   ]
  },
  {
   "cell_type": "code",
   "execution_count": 16,
   "metadata": {},
   "outputs": [
    {
     "data": {
      "text/html": [
       "<div>\n",
       "<style scoped>\n",
       "    .dataframe tbody tr th:only-of-type {\n",
       "        vertical-align: middle;\n",
       "    }\n",
       "\n",
       "    .dataframe tbody tr th {\n",
       "        vertical-align: top;\n",
       "    }\n",
       "\n",
       "    .dataframe thead th {\n",
       "        text-align: right;\n",
       "    }\n",
       "</style>\n",
       "<table border=\"1\" class=\"dataframe\">\n",
       "  <thead>\n",
       "    <tr style=\"text-align: right;\">\n",
       "      <th></th>\n",
       "      <th>City</th>\n",
       "      <th>Enterprise Type</th>\n",
       "      <th>Claim Type</th>\n",
       "      <th>Claim Site</th>\n",
       "      <th>Product Insured</th>\n",
       "      <th>Claim Amount</th>\n",
       "      <th>Close Amount</th>\n",
       "      <th>Disposition</th>\n",
       "      <th>Incident Date</th>\n",
       "      <th>Date Received</th>\n",
       "    </tr>\n",
       "  </thead>\n",
       "  <tbody>\n",
       "    <tr>\n",
       "      <th>count</th>\n",
       "      <td>34110</td>\n",
       "      <td>34110</td>\n",
       "      <td>34110</td>\n",
       "      <td>34110</td>\n",
       "      <td>34110</td>\n",
       "      <td>34110.000000</td>\n",
       "      <td>34110.000000</td>\n",
       "      <td>34110</td>\n",
       "      <td>34110</td>\n",
       "      <td>34110</td>\n",
       "    </tr>\n",
       "    <tr>\n",
       "      <th>unique</th>\n",
       "      <td>23</td>\n",
       "      <td>13</td>\n",
       "      <td>2</td>\n",
       "      <td>3</td>\n",
       "      <td>13</td>\n",
       "      <td>NaN</td>\n",
       "      <td>NaN</td>\n",
       "      <td>3</td>\n",
       "      <td>2685</td>\n",
       "      <td>1832</td>\n",
       "    </tr>\n",
       "    <tr>\n",
       "      <th>top</th>\n",
       "      <td>Mumbai</td>\n",
       "      <td>Sole Proprietorship</td>\n",
       "      <td>Property Loss</td>\n",
       "      <td>In Transit</td>\n",
       "      <td>Inventory - Raw Material</td>\n",
       "      <td>NaN</td>\n",
       "      <td>NaN</td>\n",
       "      <td>Deny</td>\n",
       "      <td>19-04-2004</td>\n",
       "      <td>21-04-2004</td>\n",
       "    </tr>\n",
       "    <tr>\n",
       "      <th>freq</th>\n",
       "      <td>2562</td>\n",
       "      <td>6259</td>\n",
       "      <td>21216</td>\n",
       "      <td>28806</td>\n",
       "      <td>8110</td>\n",
       "      <td>NaN</td>\n",
       "      <td>NaN</td>\n",
       "      <td>17848</td>\n",
       "      <td>38</td>\n",
       "      <td>215</td>\n",
       "    </tr>\n",
       "    <tr>\n",
       "      <th>mean</th>\n",
       "      <td>NaN</td>\n",
       "      <td>NaN</td>\n",
       "      <td>NaN</td>\n",
       "      <td>NaN</td>\n",
       "      <td>NaN</td>\n",
       "      <td>717.844178</td>\n",
       "      <td>104.883016</td>\n",
       "      <td>NaN</td>\n",
       "      <td>NaN</td>\n",
       "      <td>NaN</td>\n",
       "    </tr>\n",
       "    <tr>\n",
       "      <th>std</th>\n",
       "      <td>NaN</td>\n",
       "      <td>NaN</td>\n",
       "      <td>NaN</td>\n",
       "      <td>NaN</td>\n",
       "      <td>NaN</td>\n",
       "      <td>8290.881802</td>\n",
       "      <td>1393.564677</td>\n",
       "      <td>NaN</td>\n",
       "      <td>NaN</td>\n",
       "      <td>NaN</td>\n",
       "    </tr>\n",
       "    <tr>\n",
       "      <th>min</th>\n",
       "      <td>NaN</td>\n",
       "      <td>NaN</td>\n",
       "      <td>NaN</td>\n",
       "      <td>NaN</td>\n",
       "      <td>NaN</td>\n",
       "      <td>0.000000</td>\n",
       "      <td>0.000000</td>\n",
       "      <td>NaN</td>\n",
       "      <td>NaN</td>\n",
       "      <td>NaN</td>\n",
       "    </tr>\n",
       "    <tr>\n",
       "      <th>25%</th>\n",
       "      <td>NaN</td>\n",
       "      <td>NaN</td>\n",
       "      <td>NaN</td>\n",
       "      <td>NaN</td>\n",
       "      <td>NaN</td>\n",
       "      <td>60.000000</td>\n",
       "      <td>0.000000</td>\n",
       "      <td>NaN</td>\n",
       "      <td>NaN</td>\n",
       "      <td>NaN</td>\n",
       "    </tr>\n",
       "    <tr>\n",
       "      <th>50%</th>\n",
       "      <td>NaN</td>\n",
       "      <td>NaN</td>\n",
       "      <td>NaN</td>\n",
       "      <td>NaN</td>\n",
       "      <td>NaN</td>\n",
       "      <td>175.000000</td>\n",
       "      <td>0.000000</td>\n",
       "      <td>NaN</td>\n",
       "      <td>NaN</td>\n",
       "      <td>NaN</td>\n",
       "    </tr>\n",
       "    <tr>\n",
       "      <th>75%</th>\n",
       "      <td>NaN</td>\n",
       "      <td>NaN</td>\n",
       "      <td>NaN</td>\n",
       "      <td>NaN</td>\n",
       "      <td>NaN</td>\n",
       "      <td>460.000000</td>\n",
       "      <td>75.000000</td>\n",
       "      <td>NaN</td>\n",
       "      <td>NaN</td>\n",
       "      <td>NaN</td>\n",
       "    </tr>\n",
       "    <tr>\n",
       "      <th>max</th>\n",
       "      <td>NaN</td>\n",
       "      <td>NaN</td>\n",
       "      <td>NaN</td>\n",
       "      <td>NaN</td>\n",
       "      <td>NaN</td>\n",
       "      <td>900000.000000</td>\n",
       "      <td>250000.000000</td>\n",
       "      <td>NaN</td>\n",
       "      <td>NaN</td>\n",
       "      <td>NaN</td>\n",
       "    </tr>\n",
       "  </tbody>\n",
       "</table>\n",
       "</div>"
      ],
      "text/plain": [
       "          City      Enterprise Type     Claim Type  Claim Site  \\\n",
       "count    34110                34110          34110       34110   \n",
       "unique      23                   13              2           3   \n",
       "top     Mumbai  Sole Proprietorship  Property Loss  In Transit   \n",
       "freq      2562                 6259          21216       28806   \n",
       "mean       NaN                  NaN            NaN         NaN   \n",
       "std        NaN                  NaN            NaN         NaN   \n",
       "min        NaN                  NaN            NaN         NaN   \n",
       "25%        NaN                  NaN            NaN         NaN   \n",
       "50%        NaN                  NaN            NaN         NaN   \n",
       "75%        NaN                  NaN            NaN         NaN   \n",
       "max        NaN                  NaN            NaN         NaN   \n",
       "\n",
       "                 Product Insured   Claim Amount   Close Amount Disposition  \\\n",
       "count                      34110   34110.000000   34110.000000       34110   \n",
       "unique                        13            NaN            NaN           3   \n",
       "top     Inventory - Raw Material            NaN            NaN        Deny   \n",
       "freq                        8110            NaN            NaN       17848   \n",
       "mean                         NaN     717.844178     104.883016         NaN   \n",
       "std                          NaN    8290.881802    1393.564677         NaN   \n",
       "min                          NaN       0.000000       0.000000         NaN   \n",
       "25%                          NaN      60.000000       0.000000         NaN   \n",
       "50%                          NaN     175.000000       0.000000         NaN   \n",
       "75%                          NaN     460.000000      75.000000         NaN   \n",
       "max                          NaN  900000.000000  250000.000000         NaN   \n",
       "\n",
       "       Incident Date Date Received  \n",
       "count          34110         34110  \n",
       "unique          2685          1832  \n",
       "top       19-04-2004    21-04-2004  \n",
       "freq              38           215  \n",
       "mean             NaN           NaN  \n",
       "std              NaN           NaN  \n",
       "min              NaN           NaN  \n",
       "25%              NaN           NaN  \n",
       "50%              NaN           NaN  \n",
       "75%              NaN           NaN  \n",
       "max              NaN           NaN  "
      ]
     },
     "execution_count": 16,
     "metadata": {},
     "output_type": "execute_result"
    }
   ],
   "source": [
    "df_final.describe(include='all')"
   ]
  },
  {
   "cell_type": "markdown",
   "metadata": {},
   "source": [
    "### Missing Data"
   ]
  },
  {
   "cell_type": "code",
   "execution_count": 17,
   "metadata": {},
   "outputs": [
    {
     "data": {
      "text/plain": [
       "City               0\n",
       "Enterprise Type    0\n",
       "Claim Type         0\n",
       "Claim Site         0\n",
       "Product Insured    0\n",
       "Claim Amount       0\n",
       "Close Amount       0\n",
       "Disposition        0\n",
       "Incident Date      0\n",
       "Date Received      0\n",
       "dtype: int64"
      ]
     },
     "execution_count": 17,
     "metadata": {},
     "output_type": "execute_result"
    }
   ],
   "source": [
    "df_final.isnull().sum()"
   ]
  },
  {
   "cell_type": "markdown",
   "metadata": {},
   "source": [
    "#### Observation: There are no missing values in the dataset"
   ]
  },
  {
   "cell_type": "markdown",
   "metadata": {},
   "source": [
    "### Check for duplicate rows."
   ]
  },
  {
   "cell_type": "code",
   "execution_count": 18,
   "metadata": {},
   "outputs": [
    {
     "name": "stdout",
     "output_type": "stream",
     "text": [
      "There are 10 duplicate rows in the data set.\n"
     ]
    }
   ],
   "source": [
    "print(f\"There are {df_final.duplicated().sum()} duplicate rows in the data set.\")"
   ]
  },
  {
   "cell_type": "markdown",
   "metadata": {},
   "source": [
    "### Remove duplicate rows."
   ]
  },
  {
   "cell_type": "code",
   "execution_count": 19,
   "metadata": {},
   "outputs": [
    {
     "name": "stdout",
     "output_type": "stream",
     "text": [
      "The duplicate rows are removed.\n"
     ]
    }
   ],
   "source": [
    "df_final=df_final.drop_duplicates()\n",
    "print(\"The duplicate rows are removed.\")"
   ]
  },
  {
   "cell_type": "code",
   "execution_count": 20,
   "metadata": {},
   "outputs": [
    {
     "data": {
      "text/plain": [
       "(34100, 10)"
      ]
     },
     "execution_count": 20,
     "metadata": {},
     "output_type": "execute_result"
    }
   ],
   "source": [
    "df_final.shape"
   ]
  },
  {
   "cell_type": "code",
   "execution_count": 21,
   "metadata": {
    "scrolled": true
   },
   "outputs": [
    {
     "data": {
      "text/plain": [
       "City                object\n",
       "Enterprise Type     object\n",
       "Claim Type          object\n",
       "Claim Site          object\n",
       "Product Insured     object\n",
       "Claim Amount       float64\n",
       "Close Amount       float64\n",
       "Disposition         object\n",
       "Incident Date       object\n",
       "Date Received       object\n",
       "dtype: object"
      ]
     },
     "execution_count": 21,
     "metadata": {},
     "output_type": "execute_result"
    }
   ],
   "source": [
    "df_final.dtypes"
   ]
  },
  {
   "cell_type": "markdown",
   "metadata": {},
   "source": [
    "### Store categorical and numerical attribute name"
   ]
  },
  {
   "cell_type": "code",
   "execution_count": 22,
   "metadata": {},
   "outputs": [],
   "source": [
    "num_attr = ['Claim Amount','Close Amount']\n",
    "cat_attr = ['City','Enterprise Type','Claim Type', 'Claim Site', 'Product Insured','Disposition','Incident Date','Date Received']"
   ]
  },
  {
   "cell_type": "markdown",
   "metadata": {},
   "source": [
    "### Convert all attribute to appropriate type"
   ]
  },
  {
   "cell_type": "code",
   "execution_count": 23,
   "metadata": {},
   "outputs": [],
   "source": [
    "df_final[cat_attr] = df_final[cat_attr].astype('category')"
   ]
  },
  {
   "cell_type": "code",
   "execution_count": 24,
   "metadata": {},
   "outputs": [
    {
     "data": {
      "text/plain": [
       "City               category\n",
       "Enterprise Type    category\n",
       "Claim Type         category\n",
       "Claim Site         category\n",
       "Product Insured    category\n",
       "Claim Amount        float64\n",
       "Close Amount        float64\n",
       "Disposition        category\n",
       "Incident Date      category\n",
       "Date Received      category\n",
       "dtype: object"
      ]
     },
     "execution_count": 24,
     "metadata": {},
     "output_type": "execute_result"
    }
   ],
   "source": [
    "df_final.dtypes"
   ]
  },
  {
   "cell_type": "markdown",
   "metadata": {},
   "source": [
    "### Q1. What is the average % of claims received when the claim is 'Settled' ?"
   ]
  },
  {
   "cell_type": "code",
   "execution_count": 25,
   "metadata": {},
   "outputs": [],
   "source": [
    "Avg_claims=df_final.groupby(by=[\"Disposition\"])['Claim Amount'].mean()"
   ]
  },
  {
   "cell_type": "code",
   "execution_count": 26,
   "metadata": {},
   "outputs": [
    {
     "data": {
      "text/plain": [
       "Disposition\n",
       "Approve in Full     149.722611\n",
       "Deny               1081.964086\n",
       "Settle              530.574472\n",
       "Name: Claim Amount, dtype: float64"
      ]
     },
     "execution_count": 26,
     "metadata": {},
     "output_type": "execute_result"
    }
   ],
   "source": [
    "Avg_claims"
   ]
  },
  {
   "cell_type": "markdown",
   "metadata": {},
   "source": [
    "### Observation: Average % of claims received when the claim is 'Settled'- 530.574472"
   ]
  },
  {
   "cell_type": "markdown",
   "metadata": {},
   "source": [
    "### Feature Engineering"
   ]
  },
  {
   "cell_type": "markdown",
   "metadata": {},
   "source": [
    "### Conversion into date format"
   ]
  },
  {
   "cell_type": "code",
   "execution_count": 27,
   "metadata": {},
   "outputs": [],
   "source": [
    "df_final['Incident Date']=pd.to_datetime(df_final['Incident Date'])\n",
    "df_final['Date Received']=pd.to_datetime(df_final['Date Received'])"
   ]
  },
  {
   "cell_type": "code",
   "execution_count": 28,
   "metadata": {},
   "outputs": [
    {
     "data": {
      "text/plain": [
       "City                     category\n",
       "Enterprise Type          category\n",
       "Claim Type               category\n",
       "Claim Site               category\n",
       "Product Insured          category\n",
       "Claim Amount              float64\n",
       "Close Amount              float64\n",
       "Disposition              category\n",
       "Incident Date      datetime64[ns]\n",
       "Date Received      datetime64[ns]\n",
       "dtype: object"
      ]
     },
     "execution_count": 28,
     "metadata": {},
     "output_type": "execute_result"
    }
   ],
   "source": [
    "df_final.dtypes"
   ]
  },
  {
   "cell_type": "markdown",
   "metadata": {},
   "source": [
    "### Creating new column Reporting delay"
   ]
  },
  {
   "cell_type": "code",
   "execution_count": 29,
   "metadata": {},
   "outputs": [],
   "source": [
    "df_final['Reporting delay'] = (df_final['Date Received'] - df_final['Incident Date']).dt.days"
   ]
  },
  {
   "cell_type": "code",
   "execution_count": 30,
   "metadata": {},
   "outputs": [
    {
     "data": {
      "text/html": [
       "<div>\n",
       "<style scoped>\n",
       "    .dataframe tbody tr th:only-of-type {\n",
       "        vertical-align: middle;\n",
       "    }\n",
       "\n",
       "    .dataframe tbody tr th {\n",
       "        vertical-align: top;\n",
       "    }\n",
       "\n",
       "    .dataframe thead th {\n",
       "        text-align: right;\n",
       "    }\n",
       "</style>\n",
       "<table border=\"1\" class=\"dataframe\">\n",
       "  <thead>\n",
       "    <tr style=\"text-align: right;\">\n",
       "      <th></th>\n",
       "      <th>City</th>\n",
       "      <th>Enterprise Type</th>\n",
       "      <th>Claim Type</th>\n",
       "      <th>Claim Site</th>\n",
       "      <th>Product Insured</th>\n",
       "      <th>Claim Amount</th>\n",
       "      <th>Close Amount</th>\n",
       "      <th>Disposition</th>\n",
       "      <th>Incident Date</th>\n",
       "      <th>Date Received</th>\n",
       "      <th>Reporting delay</th>\n",
       "    </tr>\n",
       "  </thead>\n",
       "  <tbody>\n",
       "    <tr>\n",
       "      <th>0</th>\n",
       "      <td>Nashik</td>\n",
       "      <td>Public Limited Company</td>\n",
       "      <td>Property Loss</td>\n",
       "      <td>In Transit</td>\n",
       "      <td>Inventory - Raw Material</td>\n",
       "      <td>490.00</td>\n",
       "      <td>0.00</td>\n",
       "      <td>Deny</td>\n",
       "      <td>2007-05-25</td>\n",
       "      <td>2007-06-07</td>\n",
       "      <td>13</td>\n",
       "    </tr>\n",
       "    <tr>\n",
       "      <th>1</th>\n",
       "      <td>Mumbai</td>\n",
       "      <td>One Person Company</td>\n",
       "      <td>Property Loss</td>\n",
       "      <td>In Transit</td>\n",
       "      <td>Cameras and other Misc. Security Equipment</td>\n",
       "      <td>300.00</td>\n",
       "      <td>150.00</td>\n",
       "      <td>Settle</td>\n",
       "      <td>2006-09-17</td>\n",
       "      <td>2006-09-27</td>\n",
       "      <td>10</td>\n",
       "    </tr>\n",
       "    <tr>\n",
       "      <th>2</th>\n",
       "      <td>Lucknow</td>\n",
       "      <td>Public Limited Company</td>\n",
       "      <td>Property Loss</td>\n",
       "      <td>In Transit</td>\n",
       "      <td>Fixtures</td>\n",
       "      <td>83.98</td>\n",
       "      <td>83.98</td>\n",
       "      <td>Approve in Full</td>\n",
       "      <td>2006-12-06</td>\n",
       "      <td>2006-07-17</td>\n",
       "      <td>-142</td>\n",
       "    </tr>\n",
       "    <tr>\n",
       "      <th>3</th>\n",
       "      <td>Delhi</td>\n",
       "      <td>Sole Proprietorship</td>\n",
       "      <td>Property Loss</td>\n",
       "      <td>In Transit</td>\n",
       "      <td>Pumps and Motors</td>\n",
       "      <td>507.88</td>\n",
       "      <td>0.00</td>\n",
       "      <td>Deny</td>\n",
       "      <td>2005-11-13</td>\n",
       "      <td>2005-05-12</td>\n",
       "      <td>-185</td>\n",
       "    </tr>\n",
       "    <tr>\n",
       "      <th>4</th>\n",
       "      <td>Delhi</td>\n",
       "      <td>One Person Company</td>\n",
       "      <td>Property Loss</td>\n",
       "      <td>In Transit</td>\n",
       "      <td>Misc. Engineering Tools</td>\n",
       "      <td>83.46</td>\n",
       "      <td>41.73</td>\n",
       "      <td>Settle</td>\n",
       "      <td>2008-07-28</td>\n",
       "      <td>2008-12-08</td>\n",
       "      <td>133</td>\n",
       "    </tr>\n",
       "  </tbody>\n",
       "</table>\n",
       "</div>"
      ],
      "text/plain": [
       "      City         Enterprise Type     Claim Type  Claim Site  \\\n",
       "0   Nashik  Public Limited Company  Property Loss  In Transit   \n",
       "1   Mumbai      One Person Company  Property Loss  In Transit   \n",
       "2  Lucknow  Public Limited Company  Property Loss  In Transit   \n",
       "3    Delhi     Sole Proprietorship  Property Loss  In Transit   \n",
       "4    Delhi      One Person Company  Property Loss  In Transit   \n",
       "\n",
       "                              Product Insured  Claim Amount  Close Amount  \\\n",
       "0                    Inventory - Raw Material        490.00          0.00   \n",
       "1  Cameras and other Misc. Security Equipment        300.00        150.00   \n",
       "2                                    Fixtures         83.98         83.98   \n",
       "3                            Pumps and Motors        507.88          0.00   \n",
       "4                     Misc. Engineering Tools         83.46         41.73   \n",
       "\n",
       "       Disposition Incident Date Date Received  Reporting delay  \n",
       "0             Deny    2007-05-25    2007-06-07               13  \n",
       "1           Settle    2006-09-17    2006-09-27               10  \n",
       "2  Approve in Full    2006-12-06    2006-07-17             -142  \n",
       "3             Deny    2005-11-13    2005-05-12             -185  \n",
       "4           Settle    2008-07-28    2008-12-08              133  "
      ]
     },
     "execution_count": 30,
     "metadata": {},
     "output_type": "execute_result"
    }
   ],
   "source": [
    "df_final.head()"
   ]
  },
  {
   "cell_type": "markdown",
   "metadata": {},
   "source": [
    "#### Observation: There are some date differences which are in negative which is not possible. It means there are some incorrect entries in the dataset."
   ]
  },
  {
   "cell_type": "code",
   "execution_count": 31,
   "metadata": {},
   "outputs": [],
   "source": [
    "df_final.drop(['Incident Date', 'Date Received'], inplace=True,axis=1)"
   ]
  },
  {
   "cell_type": "code",
   "execution_count": 32,
   "metadata": {},
   "outputs": [
    {
     "data": {
      "text/html": [
       "<div>\n",
       "<style scoped>\n",
       "    .dataframe tbody tr th:only-of-type {\n",
       "        vertical-align: middle;\n",
       "    }\n",
       "\n",
       "    .dataframe tbody tr th {\n",
       "        vertical-align: top;\n",
       "    }\n",
       "\n",
       "    .dataframe thead th {\n",
       "        text-align: right;\n",
       "    }\n",
       "</style>\n",
       "<table border=\"1\" class=\"dataframe\">\n",
       "  <thead>\n",
       "    <tr style=\"text-align: right;\">\n",
       "      <th></th>\n",
       "      <th>City</th>\n",
       "      <th>Enterprise Type</th>\n",
       "      <th>Claim Type</th>\n",
       "      <th>Claim Site</th>\n",
       "      <th>Product Insured</th>\n",
       "      <th>Claim Amount</th>\n",
       "      <th>Close Amount</th>\n",
       "      <th>Disposition</th>\n",
       "      <th>Reporting delay</th>\n",
       "    </tr>\n",
       "  </thead>\n",
       "  <tbody>\n",
       "    <tr>\n",
       "      <th>0</th>\n",
       "      <td>Nashik</td>\n",
       "      <td>Public Limited Company</td>\n",
       "      <td>Property Loss</td>\n",
       "      <td>In Transit</td>\n",
       "      <td>Inventory - Raw Material</td>\n",
       "      <td>490.00</td>\n",
       "      <td>0.00</td>\n",
       "      <td>Deny</td>\n",
       "      <td>13</td>\n",
       "    </tr>\n",
       "    <tr>\n",
       "      <th>1</th>\n",
       "      <td>Mumbai</td>\n",
       "      <td>One Person Company</td>\n",
       "      <td>Property Loss</td>\n",
       "      <td>In Transit</td>\n",
       "      <td>Cameras and other Misc. Security Equipment</td>\n",
       "      <td>300.00</td>\n",
       "      <td>150.00</td>\n",
       "      <td>Settle</td>\n",
       "      <td>10</td>\n",
       "    </tr>\n",
       "    <tr>\n",
       "      <th>2</th>\n",
       "      <td>Lucknow</td>\n",
       "      <td>Public Limited Company</td>\n",
       "      <td>Property Loss</td>\n",
       "      <td>In Transit</td>\n",
       "      <td>Fixtures</td>\n",
       "      <td>83.98</td>\n",
       "      <td>83.98</td>\n",
       "      <td>Approve in Full</td>\n",
       "      <td>-142</td>\n",
       "    </tr>\n",
       "    <tr>\n",
       "      <th>3</th>\n",
       "      <td>Delhi</td>\n",
       "      <td>Sole Proprietorship</td>\n",
       "      <td>Property Loss</td>\n",
       "      <td>In Transit</td>\n",
       "      <td>Pumps and Motors</td>\n",
       "      <td>507.88</td>\n",
       "      <td>0.00</td>\n",
       "      <td>Deny</td>\n",
       "      <td>-185</td>\n",
       "    </tr>\n",
       "    <tr>\n",
       "      <th>4</th>\n",
       "      <td>Delhi</td>\n",
       "      <td>One Person Company</td>\n",
       "      <td>Property Loss</td>\n",
       "      <td>In Transit</td>\n",
       "      <td>Misc. Engineering Tools</td>\n",
       "      <td>83.46</td>\n",
       "      <td>41.73</td>\n",
       "      <td>Settle</td>\n",
       "      <td>133</td>\n",
       "    </tr>\n",
       "  </tbody>\n",
       "</table>\n",
       "</div>"
      ],
      "text/plain": [
       "      City         Enterprise Type     Claim Type  Claim Site  \\\n",
       "0   Nashik  Public Limited Company  Property Loss  In Transit   \n",
       "1   Mumbai      One Person Company  Property Loss  In Transit   \n",
       "2  Lucknow  Public Limited Company  Property Loss  In Transit   \n",
       "3    Delhi     Sole Proprietorship  Property Loss  In Transit   \n",
       "4    Delhi      One Person Company  Property Loss  In Transit   \n",
       "\n",
       "                              Product Insured  Claim Amount  Close Amount  \\\n",
       "0                    Inventory - Raw Material        490.00          0.00   \n",
       "1  Cameras and other Misc. Security Equipment        300.00        150.00   \n",
       "2                                    Fixtures         83.98         83.98   \n",
       "3                            Pumps and Motors        507.88          0.00   \n",
       "4                     Misc. Engineering Tools         83.46         41.73   \n",
       "\n",
       "       Disposition  Reporting delay  \n",
       "0             Deny               13  \n",
       "1           Settle               10  \n",
       "2  Approve in Full             -142  \n",
       "3             Deny             -185  \n",
       "4           Settle              133  "
      ]
     },
     "execution_count": 32,
     "metadata": {},
     "output_type": "execute_result"
    }
   ],
   "source": [
    "df_final.head()"
   ]
  },
  {
   "cell_type": "markdown",
   "metadata": {},
   "source": [
    "#### Distribution of Reporting delay column"
   ]
  },
  {
   "cell_type": "code",
   "execution_count": 33,
   "metadata": {},
   "outputs": [
    {
     "data": {
      "image/png": "[encoded data removed]",
      "text/plain": [
       "<Figure size 432x288 with 1 Axes>"
      ]
     },
     "metadata": {
      "needs_background": "light"
     },
     "output_type": "display_data"
    }
   ],
   "source": [
    "ax = sns.distplot(df_final['Reporting delay'],rug=True,kde=False,color='red')"
   ]
  },
  {
   "cell_type": "markdown",
   "metadata": {},
   "source": [
    "### Q2. Which 'Product' has the highest delay in Reporting (In days) ?"
   ]
  },
  {
   "cell_type": "code",
   "execution_count": 34,
   "metadata": {},
   "outputs": [
    {
     "name": "stdout",
     "output_type": "stream",
     "text": [
      "             City            Enterprise Type       Claim Type  Claim Site  \\\n",
      "20637  Coimbatore      Joint-Venture Company  Property Damage  In Transit   \n",
      "22085        Pune      Joint-Venture Company    Property Loss   Warehouse   \n",
      "15848       Patna         One Person Company  Property Damage  In Transit   \n",
      "24448      Nagpur        Sole Proprietorship  Property Damage  In Transit   \n",
      "9445     Amritsar         One Person Company  Property Damage  In Transit   \n",
      "...           ...                        ...              ...         ...   \n",
      "7401    Bangalore         One Person Company    Property Loss  In Transit   \n",
      "17862       Thane  Private Ltd. MSME - Small    Property Loss  In Transit   \n",
      "30929      Nagpur         One Person Company    Property Loss   Warehouse   \n",
      "18116   Bangalore     Public Limited Company    Property Loss  In Transit   \n",
      "32956   Hyderabad        Sole Proprietorship  Property Damage  In Transit   \n",
      "\n",
      "                                         Product Insured  Claim Amount  \\\n",
      "20637                           Inventory - Raw Material         96.58   \n",
      "22085  Heating, ventilation, and air conditioning (HV...       1950.00   \n",
      "15848                           Inventory - Raw Material         83.98   \n",
      "24448                             Misc. Electronic Items        103.95   \n",
      "9445                          Inventory - Finished Goods         13.78   \n",
      "...                                                  ...           ...   \n",
      "7401                            Inventory - Raw Material         24.00   \n",
      "17862                                      Misc. Sensors         39.26   \n",
      "30929                         Misc. Electrical Equipment        511.80   \n",
      "18116                           Inventory - Raw Material         61.64   \n",
      "32956                             Misc. Electronic Items        135.00   \n",
      "\n",
      "       Close Amount      Disposition  Reporting delay  \n",
      "20637           0.0             Deny            18279  \n",
      "22085           0.0             Deny             2118  \n",
      "15848           0.0             Deny             1839  \n",
      "24448           0.0             Deny             1396  \n",
      "9445            0.0             Deny             1248  \n",
      "...             ...              ...              ...  \n",
      "7401           24.0  Approve in Full            -1265  \n",
      "17862           0.0             Deny            -1350  \n",
      "30929           0.0             Deny            -1439  \n",
      "18116          35.7           Settle            -1644  \n",
      "32956          50.0           Settle            -3500  \n",
      "\n",
      "[34100 rows x 9 columns]\n"
     ]
    }
   ],
   "source": [
    "sorted_df = df_final.sort_values(by='Reporting delay',ascending=False)\n",
    "print(sorted_df)"
   ]
  },
  {
   "cell_type": "code",
   "execution_count": 35,
   "metadata": {},
   "outputs": [
    {
     "data": {
      "text/html": [
       "<div>\n",
       "<style scoped>\n",
       "    .dataframe tbody tr th:only-of-type {\n",
       "        vertical-align: middle;\n",
       "    }\n",
       "\n",
       "    .dataframe tbody tr th {\n",
       "        vertical-align: top;\n",
       "    }\n",
       "\n",
       "    .dataframe thead th {\n",
       "        text-align: right;\n",
       "    }\n",
       "</style>\n",
       "<table border=\"1\" class=\"dataframe\">\n",
       "  <thead>\n",
       "    <tr style=\"text-align: right;\">\n",
       "      <th></th>\n",
       "      <th>City</th>\n",
       "      <th>Enterprise Type</th>\n",
       "      <th>Claim Type</th>\n",
       "      <th>Claim Site</th>\n",
       "      <th>Product Insured</th>\n",
       "      <th>Claim Amount</th>\n",
       "      <th>Close Amount</th>\n",
       "      <th>Disposition</th>\n",
       "      <th>Reporting delay</th>\n",
       "    </tr>\n",
       "  </thead>\n",
       "  <tbody>\n",
       "    <tr>\n",
       "      <th>20637</th>\n",
       "      <td>Coimbatore</td>\n",
       "      <td>Joint-Venture Company</td>\n",
       "      <td>Property Damage</td>\n",
       "      <td>In Transit</td>\n",
       "      <td>Inventory - Raw Material</td>\n",
       "      <td>96.58</td>\n",
       "      <td>0.00</td>\n",
       "      <td>Deny</td>\n",
       "      <td>18279</td>\n",
       "    </tr>\n",
       "    <tr>\n",
       "      <th>22085</th>\n",
       "      <td>Pune</td>\n",
       "      <td>Joint-Venture Company</td>\n",
       "      <td>Property Loss</td>\n",
       "      <td>Warehouse</td>\n",
       "      <td>Heating, ventilation, and air conditioning (HV...</td>\n",
       "      <td>1950.00</td>\n",
       "      <td>0.00</td>\n",
       "      <td>Deny</td>\n",
       "      <td>2118</td>\n",
       "    </tr>\n",
       "    <tr>\n",
       "      <th>15848</th>\n",
       "      <td>Patna</td>\n",
       "      <td>One Person Company</td>\n",
       "      <td>Property Damage</td>\n",
       "      <td>In Transit</td>\n",
       "      <td>Inventory - Raw Material</td>\n",
       "      <td>83.98</td>\n",
       "      <td>0.00</td>\n",
       "      <td>Deny</td>\n",
       "      <td>1839</td>\n",
       "    </tr>\n",
       "    <tr>\n",
       "      <th>24448</th>\n",
       "      <td>Nagpur</td>\n",
       "      <td>Sole Proprietorship</td>\n",
       "      <td>Property Damage</td>\n",
       "      <td>In Transit</td>\n",
       "      <td>Misc. Electronic Items</td>\n",
       "      <td>103.95</td>\n",
       "      <td>0.00</td>\n",
       "      <td>Deny</td>\n",
       "      <td>1396</td>\n",
       "    </tr>\n",
       "    <tr>\n",
       "      <th>9445</th>\n",
       "      <td>Amritsar</td>\n",
       "      <td>One Person Company</td>\n",
       "      <td>Property Damage</td>\n",
       "      <td>In Transit</td>\n",
       "      <td>Inventory - Finished Goods</td>\n",
       "      <td>13.78</td>\n",
       "      <td>0.00</td>\n",
       "      <td>Deny</td>\n",
       "      <td>1248</td>\n",
       "    </tr>\n",
       "    <tr>\n",
       "      <th>23326</th>\n",
       "      <td>Vadodara</td>\n",
       "      <td>Foreign Subsidary</td>\n",
       "      <td>Property Loss</td>\n",
       "      <td>In Transit</td>\n",
       "      <td>Heating, ventilation, and air conditioning (HV...</td>\n",
       "      <td>540.00</td>\n",
       "      <td>0.00</td>\n",
       "      <td>Deny</td>\n",
       "      <td>1213</td>\n",
       "    </tr>\n",
       "    <tr>\n",
       "      <th>763</th>\n",
       "      <td>Ahmedabad</td>\n",
       "      <td>One Person Company</td>\n",
       "      <td>Property Loss</td>\n",
       "      <td>Warehouse</td>\n",
       "      <td>Misc. Lab Equipment</td>\n",
       "      <td>100.00</td>\n",
       "      <td>0.00</td>\n",
       "      <td>Deny</td>\n",
       "      <td>1201</td>\n",
       "    </tr>\n",
       "    <tr>\n",
       "      <th>6352</th>\n",
       "      <td>Coimbatore</td>\n",
       "      <td>Joint-Venture Company</td>\n",
       "      <td>Property Damage</td>\n",
       "      <td>Warehouse</td>\n",
       "      <td>Misc. Engineering Tools</td>\n",
       "      <td>172.00</td>\n",
       "      <td>0.00</td>\n",
       "      <td>Deny</td>\n",
       "      <td>1172</td>\n",
       "    </tr>\n",
       "    <tr>\n",
       "      <th>27737</th>\n",
       "      <td>Visakhapatnam</td>\n",
       "      <td>Partnership Firm</td>\n",
       "      <td>Property Damage</td>\n",
       "      <td>Warehouse</td>\n",
       "      <td>Furniture</td>\n",
       "      <td>3450.00</td>\n",
       "      <td>0.00</td>\n",
       "      <td>Deny</td>\n",
       "      <td>1126</td>\n",
       "    </tr>\n",
       "    <tr>\n",
       "      <th>1334</th>\n",
       "      <td>Bhopal</td>\n",
       "      <td>Private Limited Company</td>\n",
       "      <td>Property Loss</td>\n",
       "      <td>Warehouse</td>\n",
       "      <td>Inventory - Finished Goods</td>\n",
       "      <td>10.55</td>\n",
       "      <td>10.55</td>\n",
       "      <td>Approve in Full</td>\n",
       "      <td>1055</td>\n",
       "    </tr>\n",
       "  </tbody>\n",
       "</table>\n",
       "</div>"
      ],
      "text/plain": [
       "                City          Enterprise Type       Claim Type  Claim Site  \\\n",
       "20637     Coimbatore    Joint-Venture Company  Property Damage  In Transit   \n",
       "22085           Pune    Joint-Venture Company    Property Loss   Warehouse   \n",
       "15848          Patna       One Person Company  Property Damage  In Transit   \n",
       "24448         Nagpur      Sole Proprietorship  Property Damage  In Transit   \n",
       "9445        Amritsar       One Person Company  Property Damage  In Transit   \n",
       "23326       Vadodara        Foreign Subsidary    Property Loss  In Transit   \n",
       "763        Ahmedabad       One Person Company    Property Loss   Warehouse   \n",
       "6352      Coimbatore    Joint-Venture Company  Property Damage   Warehouse   \n",
       "27737  Visakhapatnam         Partnership Firm  Property Damage   Warehouse   \n",
       "1334          Bhopal  Private Limited Company    Property Loss   Warehouse   \n",
       "\n",
       "                                         Product Insured  Claim Amount  \\\n",
       "20637                           Inventory - Raw Material         96.58   \n",
       "22085  Heating, ventilation, and air conditioning (HV...       1950.00   \n",
       "15848                           Inventory - Raw Material         83.98   \n",
       "24448                             Misc. Electronic Items        103.95   \n",
       "9445                          Inventory - Finished Goods         13.78   \n",
       "23326  Heating, ventilation, and air conditioning (HV...        540.00   \n",
       "763                                  Misc. Lab Equipment        100.00   \n",
       "6352                             Misc. Engineering Tools        172.00   \n",
       "27737                                          Furniture       3450.00   \n",
       "1334                          Inventory - Finished Goods         10.55   \n",
       "\n",
       "       Close Amount      Disposition  Reporting delay  \n",
       "20637          0.00             Deny            18279  \n",
       "22085          0.00             Deny             2118  \n",
       "15848          0.00             Deny             1839  \n",
       "24448          0.00             Deny             1396  \n",
       "9445           0.00             Deny             1248  \n",
       "23326          0.00             Deny             1213  \n",
       "763            0.00             Deny             1201  \n",
       "6352           0.00             Deny             1172  \n",
       "27737          0.00             Deny             1126  \n",
       "1334          10.55  Approve in Full             1055  "
      ]
     },
     "execution_count": 35,
     "metadata": {},
     "output_type": "execute_result"
    }
   ],
   "source": [
    "sorted_df.head(10)"
   ]
  },
  {
   "cell_type": "markdown",
   "metadata": {},
   "source": [
    "#### Observation: 'Inventory-Raw material' has the highest delay in Reporting in the city Coimbatore."
   ]
  },
  {
   "cell_type": "markdown",
   "metadata": {},
   "source": [
    "#### Univariate Analysis on Categorical Columns"
   ]
  },
  {
   "cell_type": "markdown",
   "metadata": {},
   "source": [
    "### 4. Which City has reported the highest number of incidents ?"
   ]
  },
  {
   "cell_type": "code",
   "execution_count": 36,
   "metadata": {},
   "outputs": [],
   "source": [
    "def barplot(column,df):\n",
    "    bar_plot1 = sns.countplot(x=column, data=df)\n",
    "    \n",
    "    total = len(df[column])\n",
    "    for p in bar_plot1.patches:\n",
    "        percentage = '{:.2f}%'.format(100 * p.get_height()/total)\n",
    "        height = p.get_height()\n",
    "        bar_plot1.text(p.get_x()+ p.get_width()/2, height + 30, percentage, ha=\"center\")"
   ]
  },
  {
   "cell_type": "code",
   "execution_count": 37,
   "metadata": {},
   "outputs": [
    {
     "data": {
      "image/png": "[encoded data removed]",
      "text/plain": [
       "<Figure size 1440x1080 with 1 Axes>"
      ]
     },
     "metadata": {
      "needs_background": "light"
     },
     "output_type": "display_data"
    }
   ],
   "source": [
    "plt.figure(figsize=(20, 15))\n",
    "plt.xticks(fontsize=14, rotation=50)\n",
    "barplot(\"City\",df_final)"
   ]
  },
  {
   "cell_type": "markdown",
   "metadata": {},
   "source": [
    "#### Observation: Mumbai has reported the highest number of incidents "
   ]
  },
  {
   "cell_type": "markdown",
   "metadata": {},
   "source": [
    "### 5. Which Type of Claims have the highest number of incidents ?"
   ]
  },
  {
   "cell_type": "code",
   "execution_count": 38,
   "metadata": {},
   "outputs": [
    {
     "data": {
      "image/png": "[encoded data removed]",
      "text/plain": [
       "<Figure size 432x288 with 1 Axes>"
      ]
     },
     "metadata": {
      "needs_background": "light"
     },
     "output_type": "display_data"
    }
   ],
   "source": [
    "barplot(\"Claim Type\",df_final)"
   ]
  },
  {
   "cell_type": "markdown",
   "metadata": {},
   "source": [
    "### Observation: Property loss claim type has highest number of incidents "
   ]
  },
  {
   "cell_type": "markdown",
   "metadata": {},
   "source": [
    "### 6. Which Enterprise Type has reported the highest number of incidents ?"
   ]
  },
  {
   "cell_type": "code",
   "execution_count": 39,
   "metadata": {},
   "outputs": [
    {
     "data": {
      "image/png": "[encoded data removed]",
      "text/plain": [
       "<Figure size 1440x1080 with 1 Axes>"
      ]
     },
     "metadata": {
      "needs_background": "light"
     },
     "output_type": "display_data"
    }
   ],
   "source": [
    "plt.figure(figsize=(20, 15))\n",
    "plt.xticks(fontsize=14, rotation=50)\n",
    "barplot(\"Enterprise Type\",df_final)"
   ]
  },
  {
   "cell_type": "markdown",
   "metadata": {},
   "source": [
    "### Observation: Sole Proprietorship Enterprise type has the highest number of incidents"
   ]
  },
  {
   "cell_type": "markdown",
   "metadata": {},
   "source": [
    "# Bi-variate Analysis"
   ]
  },
  {
   "cell_type": "markdown",
   "metadata": {},
   "source": [
    "# Boxplot for Numeric Vs Categorical attributes"
   ]
  },
  {
   "cell_type": "markdown",
   "metadata": {},
   "source": [
    "#### Q3 How claim type and filed Claim Amount could affect the settlement of claim amount?"
   ]
  },
  {
   "cell_type": "code",
   "execution_count": 40,
   "metadata": {},
   "outputs": [
    {
     "data": {
      "text/plain": [
       "<matplotlib.axes._subplots.AxesSubplot at 0x7fbb2764b4d0>"
      ]
     },
     "execution_count": 40,
     "metadata": {},
     "output_type": "execute_result"
    },
    {
     "data": {
      "image/png": "[encoded data removed]",
      "text/plain": [
       "<Figure size 720x360 with 1 Axes>"
      ]
     },
     "metadata": {
      "needs_background": "light"
     },
     "output_type": "display_data"
    }
   ],
   "source": [
    "plt.figure(figsize=(10, 5))\n",
    "plt.xticks(fontsize=10, rotation=50)\n",
    "sns.boxplot(x=\"Claim Type\", y=\"Claim Amount\", data=df_final, hue='Disposition',palette=['blue','orange','green'])"
   ]
  },
  {
   "cell_type": "code",
   "execution_count": 41,
   "metadata": {},
   "outputs": [
    {
     "data": {
      "text/plain": [
       "City               category\n",
       "Enterprise Type    category\n",
       "Claim Type         category\n",
       "Claim Site         category\n",
       "Product Insured    category\n",
       "Claim Amount        float64\n",
       "Close Amount        float64\n",
       "Disposition        category\n",
       "Reporting delay       int64\n",
       "dtype: object"
      ]
     },
     "execution_count": 41,
     "metadata": {},
     "output_type": "execute_result"
    }
   ],
   "source": [
    "df_final.dtypes"
   ]
  },
  {
   "cell_type": "code",
   "execution_count": 42,
   "metadata": {},
   "outputs": [],
   "source": [
    "### Percentage of Claim Received\n",
    "df_final['Percentage_Received'] = (df_final['Close Amount']/df_final['Claim Amount'])*100"
   ]
  },
  {
   "cell_type": "code",
   "execution_count": 43,
   "metadata": {},
   "outputs": [
    {
     "data": {
      "text/html": [
       "<div>\n",
       "<style scoped>\n",
       "    .dataframe tbody tr th:only-of-type {\n",
       "        vertical-align: middle;\n",
       "    }\n",
       "\n",
       "    .dataframe tbody tr th {\n",
       "        vertical-align: top;\n",
       "    }\n",
       "\n",
       "    .dataframe thead th {\n",
       "        text-align: right;\n",
       "    }\n",
       "</style>\n",
       "<table border=\"1\" class=\"dataframe\">\n",
       "  <thead>\n",
       "    <tr style=\"text-align: right;\">\n",
       "      <th></th>\n",
       "      <th>City</th>\n",
       "      <th>Enterprise Type</th>\n",
       "      <th>Claim Type</th>\n",
       "      <th>Claim Site</th>\n",
       "      <th>Product Insured</th>\n",
       "      <th>Claim Amount</th>\n",
       "      <th>Close Amount</th>\n",
       "      <th>Disposition</th>\n",
       "      <th>Reporting delay</th>\n",
       "      <th>Percentage_Received</th>\n",
       "    </tr>\n",
       "  </thead>\n",
       "  <tbody>\n",
       "    <tr>\n",
       "      <th>0</th>\n",
       "      <td>Nashik</td>\n",
       "      <td>Public Limited Company</td>\n",
       "      <td>Property Loss</td>\n",
       "      <td>In Transit</td>\n",
       "      <td>Inventory - Raw Material</td>\n",
       "      <td>490.00</td>\n",
       "      <td>0.00</td>\n",
       "      <td>Deny</td>\n",
       "      <td>13</td>\n",
       "      <td>0.000000</td>\n",
       "    </tr>\n",
       "    <tr>\n",
       "      <th>1</th>\n",
       "      <td>Mumbai</td>\n",
       "      <td>One Person Company</td>\n",
       "      <td>Property Loss</td>\n",
       "      <td>In Transit</td>\n",
       "      <td>Cameras and other Misc. Security Equipment</td>\n",
       "      <td>300.00</td>\n",
       "      <td>150.00</td>\n",
       "      <td>Settle</td>\n",
       "      <td>10</td>\n",
       "      <td>50.000000</td>\n",
       "    </tr>\n",
       "    <tr>\n",
       "      <th>2</th>\n",
       "      <td>Lucknow</td>\n",
       "      <td>Public Limited Company</td>\n",
       "      <td>Property Loss</td>\n",
       "      <td>In Transit</td>\n",
       "      <td>Fixtures</td>\n",
       "      <td>83.98</td>\n",
       "      <td>83.98</td>\n",
       "      <td>Approve in Full</td>\n",
       "      <td>-142</td>\n",
       "      <td>100.000000</td>\n",
       "    </tr>\n",
       "    <tr>\n",
       "      <th>3</th>\n",
       "      <td>Delhi</td>\n",
       "      <td>Sole Proprietorship</td>\n",
       "      <td>Property Loss</td>\n",
       "      <td>In Transit</td>\n",
       "      <td>Pumps and Motors</td>\n",
       "      <td>507.88</td>\n",
       "      <td>0.00</td>\n",
       "      <td>Deny</td>\n",
       "      <td>-185</td>\n",
       "      <td>0.000000</td>\n",
       "    </tr>\n",
       "    <tr>\n",
       "      <th>4</th>\n",
       "      <td>Delhi</td>\n",
       "      <td>One Person Company</td>\n",
       "      <td>Property Loss</td>\n",
       "      <td>In Transit</td>\n",
       "      <td>Misc. Engineering Tools</td>\n",
       "      <td>83.46</td>\n",
       "      <td>41.73</td>\n",
       "      <td>Settle</td>\n",
       "      <td>133</td>\n",
       "      <td>50.000000</td>\n",
       "    </tr>\n",
       "    <tr>\n",
       "      <th>5</th>\n",
       "      <td>Chennai</td>\n",
       "      <td>Private Limited Company</td>\n",
       "      <td>Property Loss</td>\n",
       "      <td>In Transit</td>\n",
       "      <td>Misc. Engineering Tools</td>\n",
       "      <td>52.49</td>\n",
       "      <td>52.49</td>\n",
       "      <td>Approve in Full</td>\n",
       "      <td>56</td>\n",
       "      <td>100.000000</td>\n",
       "    </tr>\n",
       "    <tr>\n",
       "      <th>6</th>\n",
       "      <td>Vadodara</td>\n",
       "      <td>Joint-Venture Company</td>\n",
       "      <td>Property Damage</td>\n",
       "      <td>In Transit</td>\n",
       "      <td>Inventory - Raw Material</td>\n",
       "      <td>24.50</td>\n",
       "      <td>0.00</td>\n",
       "      <td>Deny</td>\n",
       "      <td>49</td>\n",
       "      <td>0.000000</td>\n",
       "    </tr>\n",
       "    <tr>\n",
       "      <th>7</th>\n",
       "      <td>Amritsar</td>\n",
       "      <td>Partnership Firm</td>\n",
       "      <td>Property Damage</td>\n",
       "      <td>In Transit</td>\n",
       "      <td>Misc. Electronic Items</td>\n",
       "      <td>372.27</td>\n",
       "      <td>313.14</td>\n",
       "      <td>Settle</td>\n",
       "      <td>-133</td>\n",
       "      <td>84.116367</td>\n",
       "    </tr>\n",
       "    <tr>\n",
       "      <th>8</th>\n",
       "      <td>Bangalore</td>\n",
       "      <td>Private Limited Company</td>\n",
       "      <td>Property Loss</td>\n",
       "      <td>In Transit</td>\n",
       "      <td>Fixtures</td>\n",
       "      <td>150.00</td>\n",
       "      <td>0.00</td>\n",
       "      <td>Deny</td>\n",
       "      <td>2</td>\n",
       "      <td>0.000000</td>\n",
       "    </tr>\n",
       "    <tr>\n",
       "      <th>9</th>\n",
       "      <td>Ahmedabad</td>\n",
       "      <td>Foreign Subsidary</td>\n",
       "      <td>Property Damage</td>\n",
       "      <td>In Transit</td>\n",
       "      <td>Misc. Electronic Items</td>\n",
       "      <td>500.00</td>\n",
       "      <td>50.00</td>\n",
       "      <td>Settle</td>\n",
       "      <td>54</td>\n",
       "      <td>10.000000</td>\n",
       "    </tr>\n",
       "  </tbody>\n",
       "</table>\n",
       "</div>"
      ],
      "text/plain": [
       "        City          Enterprise Type       Claim Type  Claim Site  \\\n",
       "0     Nashik   Public Limited Company    Property Loss  In Transit   \n",
       "1     Mumbai       One Person Company    Property Loss  In Transit   \n",
       "2    Lucknow   Public Limited Company    Property Loss  In Transit   \n",
       "3      Delhi      Sole Proprietorship    Property Loss  In Transit   \n",
       "4      Delhi       One Person Company    Property Loss  In Transit   \n",
       "5    Chennai  Private Limited Company    Property Loss  In Transit   \n",
       "6   Vadodara    Joint-Venture Company  Property Damage  In Transit   \n",
       "7   Amritsar         Partnership Firm  Property Damage  In Transit   \n",
       "8  Bangalore  Private Limited Company    Property Loss  In Transit   \n",
       "9  Ahmedabad        Foreign Subsidary  Property Damage  In Transit   \n",
       "\n",
       "                              Product Insured  Claim Amount  Close Amount  \\\n",
       "0                    Inventory - Raw Material        490.00          0.00   \n",
       "1  Cameras and other Misc. Security Equipment        300.00        150.00   \n",
       "2                                    Fixtures         83.98         83.98   \n",
       "3                            Pumps and Motors        507.88          0.00   \n",
       "4                     Misc. Engineering Tools         83.46         41.73   \n",
       "5                     Misc. Engineering Tools         52.49         52.49   \n",
       "6                    Inventory - Raw Material         24.50          0.00   \n",
       "7                      Misc. Electronic Items        372.27        313.14   \n",
       "8                                    Fixtures        150.00          0.00   \n",
       "9                      Misc. Electronic Items        500.00         50.00   \n",
       "\n",
       "       Disposition  Reporting delay  Percentage_Received  \n",
       "0             Deny               13             0.000000  \n",
       "1           Settle               10            50.000000  \n",
       "2  Approve in Full             -142           100.000000  \n",
       "3             Deny             -185             0.000000  \n",
       "4           Settle              133            50.000000  \n",
       "5  Approve in Full               56           100.000000  \n",
       "6             Deny               49             0.000000  \n",
       "7           Settle             -133            84.116367  \n",
       "8             Deny                2             0.000000  \n",
       "9           Settle               54            10.000000  "
      ]
     },
     "execution_count": 43,
     "metadata": {},
     "output_type": "execute_result"
    }
   ],
   "source": [
    "df_final.head(10)"
   ]
  },
  {
   "cell_type": "code",
   "execution_count": 44,
   "metadata": {},
   "outputs": [
    {
     "data": {
      "image/png": "[encoded data removed]",
      "text/plain": [
       "<Figure size 432x288 with 1 Axes>"
      ]
     },
     "metadata": {
      "needs_background": "light"
     },
     "output_type": "display_data"
    }
   ],
   "source": [
    "plt.scatter(df_final['Reporting delay'], df_final['Percentage_Received'], c='red', alpha=0.8)\n",
    "plt.title('Scatter plot')\n",
    "plt.xlabel('Reporting Delay')\n",
    "plt.ylabel('Percentage Received')\n",
    "plt.show()"
   ]
  },
  {
   "cell_type": "code",
   "execution_count": 45,
   "metadata": {},
   "outputs": [
    {
     "data": {
      "text/plain": [
       "<matplotlib.axes._subplots.AxesSubplot at 0x7fbb240500d0>"
      ]
     },
     "execution_count": 45,
     "metadata": {},
     "output_type": "execute_result"
    },
    {
     "data": {
      "image/png": "[encoded data removed]",
      "text/plain": [
       "<Figure size 720x360 with 1 Axes>"
      ]
     },
     "metadata": {
      "needs_background": "light"
     },
     "output_type": "display_data"
    }
   ],
   "source": [
    "plt.figure(figsize=(10, 5))\n",
    "plt.xticks(fontsize=10, rotation=50)\n",
    "sns.boxplot(x=\"Disposition\", y=\"Reporting delay\", data=df_final,palette=['blue','orange'])"
   ]
  },
  {
   "cell_type": "markdown",
   "metadata": {},
   "source": [
    "### Check Data types of test data"
   ]
  },
  {
   "cell_type": "code",
   "execution_count": 46,
   "metadata": {},
   "outputs": [],
   "source": [
    "df_test=pd.read_excel(\"/home/datasets/lab/MiTH/test_data.xlsx\")"
   ]
  },
  {
   "cell_type": "code",
   "execution_count": 47,
   "metadata": {},
   "outputs": [
    {
     "data": {
      "text/plain": [
       "Claim Number       object\n",
       "Incident Date      object\n",
       "Date Received      object\n",
       "City Code          object\n",
       "City               object\n",
       "Enterprise Type    object\n",
       "Claim Type         object\n",
       "Claim Site         object\n",
       "Product Insured    object\n",
       "dtype: object"
      ]
     },
     "execution_count": 47,
     "metadata": {},
     "output_type": "execute_result"
    }
   ],
   "source": [
    "df_test.dtypes"
   ]
  },
  {
   "cell_type": "code",
   "execution_count": 48,
   "metadata": {},
   "outputs": [],
   "source": [
    "df_test.drop(['Claim Number', 'City Code'], inplace=True,axis=1)"
   ]
  },
  {
   "cell_type": "code",
   "execution_count": 49,
   "metadata": {},
   "outputs": [
    {
     "data": {
      "text/plain": [
       "Incident Date      object\n",
       "Date Received      object\n",
       "City               object\n",
       "Enterprise Type    object\n",
       "Claim Type         object\n",
       "Claim Site         object\n",
       "Product Insured    object\n",
       "dtype: object"
      ]
     },
     "execution_count": 49,
     "metadata": {},
     "output_type": "execute_result"
    }
   ],
   "source": [
    "df_test.dtypes"
   ]
  },
  {
   "cell_type": "code",
   "execution_count": 50,
   "metadata": {},
   "outputs": [],
   "source": [
    "cat_attr_test = ['City','Enterprise Type','Claim Type', 'Claim Site', 'Product Insured','Incident Date','Date Received']"
   ]
  },
  {
   "cell_type": "code",
   "execution_count": 51,
   "metadata": {},
   "outputs": [],
   "source": [
    "df_test[cat_attr_test] = df_test[cat_attr_test].astype('category')"
   ]
  },
  {
   "cell_type": "code",
   "execution_count": 52,
   "metadata": {},
   "outputs": [
    {
     "data": {
      "text/plain": [
       "Incident Date      category\n",
       "Date Received      category\n",
       "City               category\n",
       "Enterprise Type    category\n",
       "Claim Type         category\n",
       "Claim Site         category\n",
       "Product Insured    category\n",
       "dtype: object"
      ]
     },
     "execution_count": 52,
     "metadata": {},
     "output_type": "execute_result"
    }
   ],
   "source": [
    "df_test.dtypes"
   ]
  },
  {
   "cell_type": "code",
   "execution_count": 53,
   "metadata": {},
   "outputs": [],
   "source": [
    "df_test['Incident Date']=pd.to_datetime(df_test['Incident Date'])\n",
    "df_test['Date Received']=pd.to_datetime(df_test['Date Received'])"
   ]
  },
  {
   "cell_type": "code",
   "execution_count": 54,
   "metadata": {},
   "outputs": [
    {
     "data": {
      "text/plain": [
       "Incident Date      datetime64[ns]\n",
       "Date Received      datetime64[ns]\n",
       "City                     category\n",
       "Enterprise Type          category\n",
       "Claim Type               category\n",
       "Claim Site               category\n",
       "Product Insured          category\n",
       "dtype: object"
      ]
     },
     "execution_count": 54,
     "metadata": {},
     "output_type": "execute_result"
    }
   ],
   "source": [
    "df_test.dtypes"
   ]
  },
  {
   "cell_type": "code",
   "execution_count": 55,
   "metadata": {},
   "outputs": [],
   "source": [
    "df_test['Reporting delay'] = (df_test['Date Received'] - df_test['Incident Date']).dt.days"
   ]
  },
  {
   "cell_type": "code",
   "execution_count": 56,
   "metadata": {},
   "outputs": [
    {
     "data": {
      "text/html": [
       "<div>\n",
       "<style scoped>\n",
       "    .dataframe tbody tr th:only-of-type {\n",
       "        vertical-align: middle;\n",
       "    }\n",
       "\n",
       "    .dataframe tbody tr th {\n",
       "        vertical-align: top;\n",
       "    }\n",
       "\n",
       "    .dataframe thead th {\n",
       "        text-align: right;\n",
       "    }\n",
       "</style>\n",
       "<table border=\"1\" class=\"dataframe\">\n",
       "  <thead>\n",
       "    <tr style=\"text-align: right;\">\n",
       "      <th></th>\n",
       "      <th>Incident Date</th>\n",
       "      <th>Date Received</th>\n",
       "      <th>City</th>\n",
       "      <th>Enterprise Type</th>\n",
       "      <th>Claim Type</th>\n",
       "      <th>Claim Site</th>\n",
       "      <th>Product Insured</th>\n",
       "      <th>Reporting delay</th>\n",
       "    </tr>\n",
       "  </thead>\n",
       "  <tbody>\n",
       "    <tr>\n",
       "      <th>0</th>\n",
       "      <td>2006-09-21</td>\n",
       "      <td>2006-12-26</td>\n",
       "      <td>Pune</td>\n",
       "      <td>One Person Company</td>\n",
       "      <td>Property Loss</td>\n",
       "      <td>In Transit</td>\n",
       "      <td>Inventory - Finished Goods</td>\n",
       "      <td>96</td>\n",
       "    </tr>\n",
       "    <tr>\n",
       "      <th>1</th>\n",
       "      <td>2009-01-15</td>\n",
       "      <td>2009-11-02</td>\n",
       "      <td>Pune</td>\n",
       "      <td>Limited Liability Parterneship (LLP)</td>\n",
       "      <td>Property Loss</td>\n",
       "      <td>In Transit</td>\n",
       "      <td>Fixtures</td>\n",
       "      <td>291</td>\n",
       "    </tr>\n",
       "    <tr>\n",
       "      <th>2</th>\n",
       "      <td>2005-08-17</td>\n",
       "      <td>2005-01-09</td>\n",
       "      <td>Ahmedabad</td>\n",
       "      <td>Private Limited Company</td>\n",
       "      <td>Property Loss</td>\n",
       "      <td>Warehouse</td>\n",
       "      <td>Inventory - Raw Material</td>\n",
       "      <td>-220</td>\n",
       "    </tr>\n",
       "    <tr>\n",
       "      <th>3</th>\n",
       "      <td>2005-02-15</td>\n",
       "      <td>2005-01-06</td>\n",
       "      <td>Delhi</td>\n",
       "      <td>One Person Company</td>\n",
       "      <td>Property Damage</td>\n",
       "      <td>In Transit</td>\n",
       "      <td>Inventory - Finished Goods</td>\n",
       "      <td>-40</td>\n",
       "    </tr>\n",
       "    <tr>\n",
       "      <th>4</th>\n",
       "      <td>2003-03-17</td>\n",
       "      <td>2003-01-04</td>\n",
       "      <td>Pune</td>\n",
       "      <td>Private Limited Company</td>\n",
       "      <td>Property Damage</td>\n",
       "      <td>In Transit</td>\n",
       "      <td>Misc. Electronic Items</td>\n",
       "      <td>-72</td>\n",
       "    </tr>\n",
       "  </tbody>\n",
       "</table>\n",
       "</div>"
      ],
      "text/plain": [
       "  Incident Date Date Received       City  \\\n",
       "0    2006-09-21    2006-12-26       Pune   \n",
       "1    2009-01-15    2009-11-02       Pune   \n",
       "2    2005-08-17    2005-01-09  Ahmedabad   \n",
       "3    2005-02-15    2005-01-06      Delhi   \n",
       "4    2003-03-17    2003-01-04       Pune   \n",
       "\n",
       "                        Enterprise Type       Claim Type  Claim Site  \\\n",
       "0                    One Person Company    Property Loss  In Transit   \n",
       "1  Limited Liability Parterneship (LLP)    Property Loss  In Transit   \n",
       "2               Private Limited Company    Property Loss   Warehouse   \n",
       "3                    One Person Company  Property Damage  In Transit   \n",
       "4               Private Limited Company  Property Damage  In Transit   \n",
       "\n",
       "              Product Insured  Reporting delay  \n",
       "0  Inventory - Finished Goods               96  \n",
       "1                    Fixtures              291  \n",
       "2    Inventory - Raw Material             -220  \n",
       "3  Inventory - Finished Goods              -40  \n",
       "4      Misc. Electronic Items              -72  "
      ]
     },
     "execution_count": 56,
     "metadata": {},
     "output_type": "execute_result"
    }
   ],
   "source": [
    "df_test.head()"
   ]
  },
  {
   "cell_type": "markdown",
   "metadata": {},
   "source": [
    "#### Observation: There are some date differences which are in negative in the test data which is not possible. It means there are some incorrect entries in the test data."
   ]
  },
  {
   "cell_type": "code",
   "execution_count": 57,
   "metadata": {},
   "outputs": [],
   "source": [
    "df_test.drop(['Incident Date', 'Date Received'], inplace=True,axis=1)"
   ]
  },
  {
   "cell_type": "code",
   "execution_count": 58,
   "metadata": {},
   "outputs": [
    {
     "data": {
      "text/html": [
       "<div>\n",
       "<style scoped>\n",
       "    .dataframe tbody tr th:only-of-type {\n",
       "        vertical-align: middle;\n",
       "    }\n",
       "\n",
       "    .dataframe tbody tr th {\n",
       "        vertical-align: top;\n",
       "    }\n",
       "\n",
       "    .dataframe thead th {\n",
       "        text-align: right;\n",
       "    }\n",
       "</style>\n",
       "<table border=\"1\" class=\"dataframe\">\n",
       "  <thead>\n",
       "    <tr style=\"text-align: right;\">\n",
       "      <th></th>\n",
       "      <th>City</th>\n",
       "      <th>Enterprise Type</th>\n",
       "      <th>Claim Type</th>\n",
       "      <th>Claim Site</th>\n",
       "      <th>Product Insured</th>\n",
       "      <th>Reporting delay</th>\n",
       "    </tr>\n",
       "  </thead>\n",
       "  <tbody>\n",
       "    <tr>\n",
       "      <th>0</th>\n",
       "      <td>Pune</td>\n",
       "      <td>One Person Company</td>\n",
       "      <td>Property Loss</td>\n",
       "      <td>In Transit</td>\n",
       "      <td>Inventory - Finished Goods</td>\n",
       "      <td>96</td>\n",
       "    </tr>\n",
       "    <tr>\n",
       "      <th>1</th>\n",
       "      <td>Pune</td>\n",
       "      <td>Limited Liability Parterneship (LLP)</td>\n",
       "      <td>Property Loss</td>\n",
       "      <td>In Transit</td>\n",
       "      <td>Fixtures</td>\n",
       "      <td>291</td>\n",
       "    </tr>\n",
       "    <tr>\n",
       "      <th>2</th>\n",
       "      <td>Ahmedabad</td>\n",
       "      <td>Private Limited Company</td>\n",
       "      <td>Property Loss</td>\n",
       "      <td>Warehouse</td>\n",
       "      <td>Inventory - Raw Material</td>\n",
       "      <td>-220</td>\n",
       "    </tr>\n",
       "  </tbody>\n",
       "</table>\n",
       "</div>"
      ],
      "text/plain": [
       "        City                       Enterprise Type     Claim Type  Claim Site  \\\n",
       "0       Pune                    One Person Company  Property Loss  In Transit   \n",
       "1       Pune  Limited Liability Parterneship (LLP)  Property Loss  In Transit   \n",
       "2  Ahmedabad               Private Limited Company  Property Loss   Warehouse   \n",
       "\n",
       "              Product Insured  Reporting delay  \n",
       "0  Inventory - Finished Goods               96  \n",
       "1                    Fixtures              291  \n",
       "2    Inventory - Raw Material             -220  "
      ]
     },
     "execution_count": 58,
     "metadata": {},
     "output_type": "execute_result"
    }
   ],
   "source": [
    "df_test.head(3)"
   ]
  },
  {
   "cell_type": "code",
   "execution_count": 59,
   "metadata": {},
   "outputs": [
    {
     "data": {
      "text/plain": [
       "City               0\n",
       "Enterprise Type    0\n",
       "Claim Type         0\n",
       "Claim Site         0\n",
       "Product Insured    0\n",
       "Reporting delay    0\n",
       "dtype: int64"
      ]
     },
     "execution_count": 59,
     "metadata": {},
     "output_type": "execute_result"
    }
   ],
   "source": [
    "df_test.isnull().sum()"
   ]
  },
  {
   "cell_type": "markdown",
   "metadata": {},
   "source": [
    "#### Observation: There are no null values in the test set"
   ]
  },
  {
   "cell_type": "code",
   "execution_count": 60,
   "metadata": {},
   "outputs": [
    {
     "data": {
      "text/plain": [
       "City                23\n",
       "Enterprise Type     13\n",
       "Claim Type           2\n",
       "Claim Site           3\n",
       "Product Insured     13\n",
       "Reporting delay    628\n",
       "dtype: int64"
      ]
     },
     "execution_count": 60,
     "metadata": {},
     "output_type": "execute_result"
    }
   ],
   "source": [
    "df_test.nunique()"
   ]
  },
  {
   "cell_type": "markdown",
   "metadata": {},
   "source": [
    "#### Distribution of dependent variable"
   ]
  },
  {
   "cell_type": "code",
   "execution_count": 61,
   "metadata": {},
   "outputs": [
    {
     "data": {
      "image/png": "[encoded data removed]",
      "text/plain": [
       "<Figure size 432x288 with 1 Axes>"
      ]
     },
     "metadata": {
      "needs_background": "light"
     },
     "output_type": "display_data"
    },
    {
     "data": {
      "text/plain": [
       "Deny               52.322581\n",
       "Approve in Full    26.536657\n",
       "Settle             21.140762\n",
       "Name: Disposition, dtype: float64"
      ]
     },
     "execution_count": 61,
     "metadata": {},
     "output_type": "execute_result"
    }
   ],
   "source": [
    "sns.countplot(x=\"Disposition\", data=df_final)\n",
    "plt.show()\n",
    "df_final.Disposition.value_counts(normalize=True)*100"
   ]
  },
  {
   "cell_type": "markdown",
   "metadata": {},
   "source": [
    "## Divide the data into train and test"
   ]
  },
  {
   "cell_type": "code",
   "execution_count": 62,
   "metadata": {},
   "outputs": [],
   "source": [
    "#Splitting the data\n",
    "y=df_final[\"Disposition\"]\n",
    "X=df_final.drop('Disposition', axis=1)\n",
    "X_train, X_test, y_train, y_test = train_test_split(X, y, test_size=0.20,stratify=y,random_state=123)  "
   ]
  },
  {
   "cell_type": "code",
   "execution_count": 63,
   "metadata": {},
   "outputs": [
    {
     "name": "stdout",
     "output_type": "stream",
     "text": [
      "Deny               52.324047\n",
      "Approve in Full    26.535924\n",
      "Settle             21.140029\n",
      "Name: Disposition, dtype: float64\n",
      "\n",
      "\n",
      "Deny               52.316716\n",
      "Approve in Full    26.539589\n",
      "Settle             21.143695\n",
      "Name: Disposition, dtype: float64\n"
     ]
    }
   ],
   "source": [
    "print(y_train.value_counts(normalize=True)*100)\n",
    "print(\"\\n\")\n",
    "print(y_test.value_counts(normalize=True)*100)"
   ]
  },
  {
   "cell_type": "markdown",
   "metadata": {},
   "source": [
    "### LabelEncoder : Target Attributes"
   ]
  },
  {
   "cell_type": "code",
   "execution_count": 64,
   "metadata": {},
   "outputs": [
    {
     "data": {
      "text/plain": [
       "Deny               14274\n",
       "Approve in Full     7239\n",
       "Settle              5767\n",
       "Name: Disposition, dtype: int64"
      ]
     },
     "execution_count": 64,
     "metadata": {},
     "output_type": "execute_result"
    }
   ],
   "source": [
    "y_train.value_counts()"
   ]
  },
  {
   "cell_type": "code",
   "execution_count": 65,
   "metadata": {},
   "outputs": [],
   "source": [
    "le = LabelEncoder()\n",
    "\n",
    "le.fit(y_train)\n",
    "\n",
    "y_train = le.transform(y_train)\n",
    "y_test = le.transform(y_test)"
   ]
  },
  {
   "cell_type": "code",
   "execution_count": 66,
   "metadata": {},
   "outputs": [
    {
     "name": "stdout",
     "output_type": "stream",
     "text": [
      "['Approve in Full' 'Deny' 'Settle']\n",
      "['Approve in Full' 'Deny' 'Settle']\n"
     ]
    }
   ],
   "source": [
    "print(le.classes_)\n",
    "print(le.inverse_transform([0, 1, 2]))"
   ]
  },
  {
   "cell_type": "code",
   "execution_count": 67,
   "metadata": {},
   "outputs": [
    {
     "data": {
      "text/plain": [
       "(array([0, 1, 2]), array([ 7239, 14274,  5767]))"
      ]
     },
     "execution_count": 67,
     "metadata": {},
     "output_type": "execute_result"
    }
   ],
   "source": [
    "np.unique(y_train, return_counts=True)"
   ]
  },
  {
   "cell_type": "code",
   "execution_count": 68,
   "metadata": {},
   "outputs": [
    {
     "data": {
      "text/plain": [
       "(array([0, 1, 2]), array([1810, 3568, 1442]))"
      ]
     },
     "execution_count": 68,
     "metadata": {},
     "output_type": "execute_result"
    }
   ],
   "source": [
    "np.unique(y_test, return_counts=True)"
   ]
  },
  {
   "cell_type": "markdown",
   "metadata": {},
   "source": [
    "# Converting Categorical attributes to Numeric attributes"
   ]
  },
  {
   "cell_type": "code",
   "execution_count": 69,
   "metadata": {},
   "outputs": [
    {
     "data": {
      "text/plain": [
       "Index(['City', 'Enterprise Type', 'Claim Type', 'Claim Site',\n",
       "       'Product Insured', 'Claim Amount', 'Close Amount', 'Reporting delay',\n",
       "       'Percentage_Received'],\n",
       "      dtype='object')"
      ]
     },
     "execution_count": 69,
     "metadata": {},
     "output_type": "execute_result"
    }
   ],
   "source": [
    "X_train.columns"
   ]
  },
  {
   "cell_type": "code",
   "execution_count": 70,
   "metadata": {},
   "outputs": [],
   "source": [
    "X_train.drop(['Claim Amount', 'Close Amount','Percentage_Received','Reporting delay'], inplace=True,axis=1)"
   ]
  },
  {
   "cell_type": "code",
   "execution_count": 71,
   "metadata": {},
   "outputs": [],
   "source": [
    "X_test.drop(['Claim Amount', 'Close Amount','Percentage_Received','Reporting delay'], inplace=True,axis=1)"
   ]
  },
  {
   "cell_type": "code",
   "execution_count": 72,
   "metadata": {},
   "outputs": [
    {
     "data": {
      "text/html": [
       "<div>\n",
       "<style scoped>\n",
       "    .dataframe tbody tr th:only-of-type {\n",
       "        vertical-align: middle;\n",
       "    }\n",
       "\n",
       "    .dataframe tbody tr th {\n",
       "        vertical-align: top;\n",
       "    }\n",
       "\n",
       "    .dataframe thead th {\n",
       "        text-align: right;\n",
       "    }\n",
       "</style>\n",
       "<table border=\"1\" class=\"dataframe\">\n",
       "  <thead>\n",
       "    <tr style=\"text-align: right;\">\n",
       "      <th></th>\n",
       "      <th>City</th>\n",
       "      <th>Enterprise Type</th>\n",
       "      <th>Claim Type</th>\n",
       "      <th>Claim Site</th>\n",
       "      <th>Product Insured</th>\n",
       "    </tr>\n",
       "  </thead>\n",
       "  <tbody>\n",
       "    <tr>\n",
       "      <th>8142</th>\n",
       "      <td>Kanpur</td>\n",
       "      <td>One Person Company</td>\n",
       "      <td>Property Damage</td>\n",
       "      <td>In Transit</td>\n",
       "      <td>Inventory - Raw Material</td>\n",
       "    </tr>\n",
       "    <tr>\n",
       "      <th>13854</th>\n",
       "      <td>Mumbai</td>\n",
       "      <td>Private Ltd. MSME - Micro</td>\n",
       "      <td>Property Loss</td>\n",
       "      <td>In Transit</td>\n",
       "      <td>Heating, ventilation, and air conditioning (HV...</td>\n",
       "    </tr>\n",
       "    <tr>\n",
       "      <th>19490</th>\n",
       "      <td>Delhi</td>\n",
       "      <td>One Person Company</td>\n",
       "      <td>Property Damage</td>\n",
       "      <td>Warehouse</td>\n",
       "      <td>Misc. Electronic Items</td>\n",
       "    </tr>\n",
       "    <tr>\n",
       "      <th>10523</th>\n",
       "      <td>Lucknow</td>\n",
       "      <td>Private Limited Company</td>\n",
       "      <td>Property Loss</td>\n",
       "      <td>In Transit</td>\n",
       "      <td>Inventory - Finished Goods</td>\n",
       "    </tr>\n",
       "    <tr>\n",
       "      <th>18701</th>\n",
       "      <td>Bangalore</td>\n",
       "      <td>Public Limited Company</td>\n",
       "      <td>Property Loss</td>\n",
       "      <td>In Transit</td>\n",
       "      <td>Misc. Electrical Equipment</td>\n",
       "    </tr>\n",
       "  </tbody>\n",
       "</table>\n",
       "</div>"
      ],
      "text/plain": [
       "            City            Enterprise Type       Claim Type  Claim Site  \\\n",
       "8142      Kanpur         One Person Company  Property Damage  In Transit   \n",
       "13854     Mumbai  Private Ltd. MSME - Micro    Property Loss  In Transit   \n",
       "19490      Delhi         One Person Company  Property Damage   Warehouse   \n",
       "10523    Lucknow    Private Limited Company    Property Loss  In Transit   \n",
       "18701  Bangalore     Public Limited Company    Property Loss  In Transit   \n",
       "\n",
       "                                         Product Insured  \n",
       "8142                            Inventory - Raw Material  \n",
       "13854  Heating, ventilation, and air conditioning (HV...  \n",
       "19490                             Misc. Electronic Items  \n",
       "10523                         Inventory - Finished Goods  \n",
       "18701                         Misc. Electrical Equipment  "
      ]
     },
     "execution_count": 72,
     "metadata": {},
     "output_type": "execute_result"
    }
   ],
   "source": [
    "X_train.head()"
   ]
  },
  {
   "cell_type": "code",
   "execution_count": 73,
   "metadata": {},
   "outputs": [
    {
     "data": {
      "text/html": [
       "<div>\n",
       "<style scoped>\n",
       "    .dataframe tbody tr th:only-of-type {\n",
       "        vertical-align: middle;\n",
       "    }\n",
       "\n",
       "    .dataframe tbody tr th {\n",
       "        vertical-align: top;\n",
       "    }\n",
       "\n",
       "    .dataframe thead th {\n",
       "        text-align: right;\n",
       "    }\n",
       "</style>\n",
       "<table border=\"1\" class=\"dataframe\">\n",
       "  <thead>\n",
       "    <tr style=\"text-align: right;\">\n",
       "      <th></th>\n",
       "      <th>City</th>\n",
       "      <th>Enterprise Type</th>\n",
       "      <th>Claim Type</th>\n",
       "      <th>Claim Site</th>\n",
       "      <th>Product Insured</th>\n",
       "    </tr>\n",
       "  </thead>\n",
       "  <tbody>\n",
       "    <tr>\n",
       "      <th>3635</th>\n",
       "      <td>Mumbai</td>\n",
       "      <td>Public Limited Company</td>\n",
       "      <td>Property Loss</td>\n",
       "      <td>In Transit</td>\n",
       "      <td>Misc. Engineering Tools</td>\n",
       "    </tr>\n",
       "    <tr>\n",
       "      <th>9323</th>\n",
       "      <td>Mumbai</td>\n",
       "      <td>One Person Company</td>\n",
       "      <td>Property Loss</td>\n",
       "      <td>In Transit</td>\n",
       "      <td>Inventory - Finished Goods</td>\n",
       "    </tr>\n",
       "    <tr>\n",
       "      <th>14757</th>\n",
       "      <td>Agra</td>\n",
       "      <td>Sole Proprietorship</td>\n",
       "      <td>Property Loss</td>\n",
       "      <td>Warehouse</td>\n",
       "      <td>Pumps and Motors</td>\n",
       "    </tr>\n",
       "    <tr>\n",
       "      <th>32282</th>\n",
       "      <td>Ahmedabad</td>\n",
       "      <td>Private Ltd. MSME - Micro</td>\n",
       "      <td>Property Damage</td>\n",
       "      <td>In Transit</td>\n",
       "      <td>Misc. Electronic Items</td>\n",
       "    </tr>\n",
       "    <tr>\n",
       "      <th>32758</th>\n",
       "      <td>Coimbatore</td>\n",
       "      <td>Joint-Venture Company</td>\n",
       "      <td>Property Damage</td>\n",
       "      <td>In Transit</td>\n",
       "      <td>Misc. Engineering Tools</td>\n",
       "    </tr>\n",
       "  </tbody>\n",
       "</table>\n",
       "</div>"
      ],
      "text/plain": [
       "             City            Enterprise Type       Claim Type  Claim Site  \\\n",
       "3635       Mumbai     Public Limited Company    Property Loss  In Transit   \n",
       "9323       Mumbai         One Person Company    Property Loss  In Transit   \n",
       "14757        Agra        Sole Proprietorship    Property Loss   Warehouse   \n",
       "32282   Ahmedabad  Private Ltd. MSME - Micro  Property Damage  In Transit   \n",
       "32758  Coimbatore      Joint-Venture Company  Property Damage  In Transit   \n",
       "\n",
       "                  Product Insured  \n",
       "3635      Misc. Engineering Tools  \n",
       "9323   Inventory - Finished Goods  \n",
       "14757            Pumps and Motors  \n",
       "32282      Misc. Electronic Items  \n",
       "32758     Misc. Engineering Tools  "
      ]
     },
     "execution_count": 73,
     "metadata": {},
     "output_type": "execute_result"
    }
   ],
   "source": [
    "X_test.head()"
   ]
  },
  {
   "cell_type": "code",
   "execution_count": 74,
   "metadata": {},
   "outputs": [
    {
     "data": {
      "text/plain": [
       "Index(['City', 'Enterprise Type', 'Claim Type', 'Claim Site',\n",
       "       'Product Insured'],\n",
       "      dtype='object')"
      ]
     },
     "execution_count": 74,
     "metadata": {},
     "output_type": "execute_result"
    }
   ],
   "source": [
    "cat_attr = X_train.select_dtypes(include=['category']).columns\n",
    "cat_attr"
   ]
  },
  {
   "cell_type": "markdown",
   "metadata": {},
   "source": [
    "### Using OneHotEncoder, converting Categorical attributes to Numeric attributes"
   ]
  },
  {
   "cell_type": "code",
   "execution_count": 75,
   "metadata": {},
   "outputs": [
    {
     "data": {
      "text/plain": [
       "OneHotEncoder(drop='first')"
      ]
     },
     "execution_count": 75,
     "metadata": {},
     "output_type": "execute_result"
    }
   ],
   "source": [
    "enc = OneHotEncoder(drop = 'first')\n",
    "\n",
    "enc.fit(X_train[cat_attr])"
   ]
  },
  {
   "cell_type": "code",
   "execution_count": 76,
   "metadata": {},
   "outputs": [],
   "source": [
    "X_train_ohe=enc.transform(X_train[cat_attr]).toarray()\n",
    "X_test_ohe=enc.transform(X_test[cat_attr]).toarray()\n",
    "df_X_test_ohe=enc.transform(df_test[cat_attr]).toarray()"
   ]
  },
  {
   "cell_type": "markdown",
   "metadata": {},
   "source": [
    "# Model Building"
   ]
  },
  {
   "cell_type": "markdown",
   "metadata": {},
   "source": [
    "# Decision Trees"
   ]
  },
  {
   "cell_type": "code",
   "execution_count": 77,
   "metadata": {},
   "outputs": [],
   "source": [
    "clf_dt = DecisionTreeClassifier(max_depth=5)"
   ]
  },
  {
   "cell_type": "code",
   "execution_count": 78,
   "metadata": {},
   "outputs": [
    {
     "data": {
      "text/plain": [
       "DecisionTreeClassifier(max_depth=5)"
      ]
     },
     "execution_count": 78,
     "metadata": {},
     "output_type": "execute_result"
    }
   ],
   "source": [
    "clf_dt.fit(X_train_ohe,y_train)"
   ]
  },
  {
   "cell_type": "code",
   "execution_count": 79,
   "metadata": {},
   "outputs": [],
   "source": [
    "y_pred_train = clf_dt.predict(X_train_ohe)\n",
    "y_pred_test = clf_dt.predict(X_test_ohe)"
   ]
  },
  {
   "cell_type": "markdown",
   "metadata": {},
   "source": [
    "## Function for Classification Report"
   ]
  },
  {
   "cell_type": "code",
   "execution_count": 80,
   "metadata": {
    "ExecuteTime": {
     "end_time": "2020-03-06T10:32:35.165305Z",
     "start_time": "2020-03-06T10:32:34.927798Z"
    },
    "colab": {},
    "colab_type": "code",
    "id": "Vd9891yaxMtM"
   },
   "outputs": [],
   "source": [
    "def classifcation_report_train_test(y_train, y_train_pred, y_test, y_test_pred):\n",
    "\n",
    "    print('''\n",
    "            =========================================\n",
    "               CLASSIFICATION REPORT FOR TRAIN DATA\n",
    "            =========================================\n",
    "            ''')\n",
    "    print(classification_report(y_train, y_train_pred, digits=4))\n",
    "\n",
    "    print('''\n",
    "            =========================================\n",
    "               CLASSIFICATION REPORT FOR TEST DATA\n",
    "            =========================================\n",
    "            ''')\n",
    "    print(classification_report(y_test, y_test_pred, digits=4))"
   ]
  },
  {
   "cell_type": "markdown",
   "metadata": {},
   "source": [
    "# Function to calculate accuracy, recall, precision and F1 score"
   ]
  },
  {
   "cell_type": "code",
   "execution_count": 81,
   "metadata": {},
   "outputs": [],
   "source": [
    "scores = pd.DataFrame(columns=['Model', 'Train_Accuracy', 'Train_Recall', 'Train_Precision', 'Train_F1_Score', \n",
    "                               'Test_Accuracy', 'Test_Recall', 'Test_Precision', 'Test_F1_Score'])\n",
    "\n",
    "def get_metrics(train_actual, train_predicted, test_actual, test_predicted, model_description, dataframe):\n",
    "\n",
    "    train_accuracy  = accuracy_score(train_actual, train_predicted)\n",
    "    train_recall    = recall_score(train_actual, train_predicted, average=\"weighted\")\n",
    "    train_precision = precision_score(train_actual, train_predicted, average=\"weighted\")\n",
    "    train_f1score   = f1_score(train_actual, train_predicted, average=\"weighted\")\n",
    "    \n",
    "    test_accuracy   = accuracy_score(test_actual, test_predicted)\n",
    "    test_recall     = recall_score(test_actual, test_predicted, average=\"weighted\")\n",
    "    test_precision  = precision_score(test_actual, test_predicted, average=\"weighted\")\n",
    "    test_f1score    = f1_score(test_actual, test_predicted, average=\"weighted\")\n",
    "\n",
    "    dataframe       = dataframe.append(pd.Series([model_description, \n",
    "                                                  train_accuracy, train_recall, train_precision, train_f1score,\n",
    "                                                  test_accuracy, test_recall, test_precision, test_f1score],\n",
    "                                                 index=scores.columns ), \n",
    "                                       ignore_index=True)\n",
    "\n",
    "    return(dataframe)"
   ]
  },
  {
   "cell_type": "code",
   "execution_count": 82,
   "metadata": {},
   "outputs": [
    {
     "data": {
      "text/html": [
       "<div>\n",
       "<style scoped>\n",
       "    .dataframe tbody tr th:only-of-type {\n",
       "        vertical-align: middle;\n",
       "    }\n",
       "\n",
       "    .dataframe tbody tr th {\n",
       "        vertical-align: top;\n",
       "    }\n",
       "\n",
       "    .dataframe thead th {\n",
       "        text-align: right;\n",
       "    }\n",
       "</style>\n",
       "<table border=\"1\" class=\"dataframe\">\n",
       "  <thead>\n",
       "    <tr style=\"text-align: right;\">\n",
       "      <th></th>\n",
       "      <th>Model</th>\n",
       "      <th>Train_Accuracy</th>\n",
       "      <th>Train_Recall</th>\n",
       "      <th>Train_Precision</th>\n",
       "      <th>Train_F1_Score</th>\n",
       "      <th>Test_Accuracy</th>\n",
       "      <th>Test_Recall</th>\n",
       "      <th>Test_Precision</th>\n",
       "      <th>Test_F1_Score</th>\n",
       "    </tr>\n",
       "  </thead>\n",
       "  <tbody>\n",
       "    <tr>\n",
       "      <th>0</th>\n",
       "      <td>DecisionTrees</td>\n",
       "      <td>0.547434</td>\n",
       "      <td>0.547434</td>\n",
       "      <td>0.63684</td>\n",
       "      <td>0.453001</td>\n",
       "      <td>0.547067</td>\n",
       "      <td>0.547067</td>\n",
       "      <td>0.424708</td>\n",
       "      <td>0.453322</td>\n",
       "    </tr>\n",
       "  </tbody>\n",
       "</table>\n",
       "</div>"
      ],
      "text/plain": [
       "           Model  Train_Accuracy  Train_Recall  Train_Precision  \\\n",
       "0  DecisionTrees        0.547434      0.547434          0.63684   \n",
       "\n",
       "   Train_F1_Score  Test_Accuracy  Test_Recall  Test_Precision  Test_F1_Score  \n",
       "0        0.453001       0.547067     0.547067        0.424708       0.453322  "
      ]
     },
     "execution_count": 82,
     "metadata": {},
     "output_type": "execute_result"
    }
   ],
   "source": [
    "scores = get_metrics(y_train, y_pred_train, y_test, y_pred_test, \"DecisionTrees\", scores)\n",
    "scores"
   ]
  },
  {
   "cell_type": "code",
   "execution_count": 83,
   "metadata": {},
   "outputs": [
    {
     "name": "stdout",
     "output_type": "stream",
     "text": [
      "\n",
      "            =========================================\n",
      "               CLASSIFICATION REPORT FOR TRAIN DATA\n",
      "            =========================================\n",
      "            \n",
      "              precision    recall  f1-score   support\n",
      "\n",
      "           0     0.5131    0.2651    0.3496      7239\n",
      "           1     0.5529    0.9117    0.6883     14274\n",
      "           2     1.0000    0.0002    0.0003      5767\n",
      "\n",
      "    accuracy                         0.5474     27280\n",
      "   macro avg     0.6887    0.3923    0.3461     27280\n",
      "weighted avg     0.6368    0.5474    0.4530     27280\n",
      "\n",
      "\n",
      "            =========================================\n",
      "               CLASSIFICATION REPORT FOR TEST DATA\n",
      "            =========================================\n",
      "            \n",
      "              precision    recall  f1-score   support\n",
      "\n",
      "           0     0.5099    0.2691    0.3523      1810\n",
      "           1     0.5531    0.9092    0.6878      3568\n",
      "           2     0.0000    0.0000    0.0000      1442\n",
      "\n",
      "    accuracy                         0.5471      6820\n",
      "   macro avg     0.3544    0.3928    0.3467      6820\n",
      "weighted avg     0.4247    0.5471    0.4533      6820\n",
      "\n"
     ]
    }
   ],
   "source": [
    "classifcation_report_train_test(y_train, y_pred_train, y_test, y_pred_test)"
   ]
  },
  {
   "cell_type": "markdown",
   "metadata": {},
   "source": [
    "#### GridSearch CV"
   ]
  },
  {
   "cell_type": "code",
   "execution_count": 137,
   "metadata": {},
   "outputs": [],
   "source": [
    "clf_dt_gs = DecisionTreeClassifier()\n",
    "parameters = {'criterion': ['entropy','gini'], \n",
    "              'max_depth': [3,4,5],\n",
    "              'min_samples_split': [5,10],\n",
    "              'min_samples_leaf': [2]}\n",
    "\n",
    "from sklearn.model_selection import GridSearchCV\n",
    "\n",
    "gs = GridSearchCV(clf_dt_gs, parameters, cv=5, scoring='recall', verbose=50, n_jobs=-1, refit=True)"
   ]
  },
  {
   "cell_type": "code",
   "execution_count": 139,
   "metadata": {},
   "outputs": [
    {
     "name": "stdout",
     "output_type": "stream",
     "text": [
      "Fitting 5 folds for each of 12 candidates, totalling 60 fits\n"
     ]
    },
    {
     "data": {
      "text/plain": [
       "GridSearchCV(cv=5, estimator=DecisionTreeClassifier(), n_jobs=-1,\n",
       "             param_grid={'criterion': ['entropy', 'gini'],\n",
       "                         'max_depth': [3, 4, 5], 'min_samples_leaf': [2],\n",
       "                         'min_samples_split': [5, 10]},\n",
       "             scoring='recall', verbose=50)"
      ]
     },
     "execution_count": 139,
     "metadata": {},
     "output_type": "execute_result"
    }
   ],
   "source": [
    "gs.fit(X_train_ohe, y_train )"
   ]
  },
  {
   "cell_type": "code",
   "execution_count": 140,
   "metadata": {},
   "outputs": [
    {
     "data": {
      "text/plain": [
       "{'criterion': 'entropy',\n",
       " 'max_depth': 3,\n",
       " 'min_samples_leaf': 2,\n",
       " 'min_samples_split': 5}"
      ]
     },
     "execution_count": 140,
     "metadata": {},
     "output_type": "execute_result"
    }
   ],
   "source": [
    "gs.best_params_"
   ]
  },
  {
   "cell_type": "code",
   "execution_count": 141,
   "metadata": {},
   "outputs": [],
   "source": [
    "train_pred_dt = gs.predict(X_train_ohe)\n",
    "test_pred_dt = gs.predict(X_test_ohe)"
   ]
  },
  {
   "cell_type": "code",
   "execution_count": 142,
   "metadata": {},
   "outputs": [],
   "source": [
    "def evaluate_model(act, pred):\n",
    "    print(\"Confusion Matrix \\n\", confusion_matrix(act, pred))\n",
    "    print(\"Accuracy : \", accuracy_score(act, pred))\n",
    "    print(\"Recall   : \", recall_score(act, pred,average=\"weighted\"))\n",
    "    print(\"Precision: \", precision_score(act, pred,average=\"weighted\"))\n",
    "    print(\"F1_score : \", f1_score(act, pred,average=\"weighted\"))"
   ]
  },
  {
   "cell_type": "code",
   "execution_count": 143,
   "metadata": {},
   "outputs": [
    {
     "name": "stdout",
     "output_type": "stream",
     "text": [
      "--Train--\n",
      "Confusion Matrix \n",
      " [[ 1918  5321     0]\n",
      " [ 1588 12686     0]\n",
      " [  445  5322     0]]\n",
      "Accuracy :  0.5353372434017595\n",
      "Recall   :  0.5353372434017595\n",
      "Precision:  0.41334898186218105\n",
      "F1_score :  0.444014579424073\n"
     ]
    }
   ],
   "source": [
    "print(\"--Train--\")\n",
    "evaluate_model(y_train, train_pred_dt)"
   ]
  },
  {
   "cell_type": "code",
   "execution_count": 144,
   "metadata": {},
   "outputs": [
    {
     "name": "stdout",
     "output_type": "stream",
     "text": [
      "--Test--\n",
      "Confusion Matrix \n",
      " [[ 461 1349    0]\n",
      " [ 428 3140    0]\n",
      " [ 112 1330    0]]\n",
      "Accuracy :  0.5280058651026392\n",
      "Recall   :  0.5280058651026392\n",
      "Precision:  0.40453235681048905\n",
      "F1_score :  0.4370533311615377\n"
     ]
    }
   ],
   "source": [
    "print(\"--Test--\")\n",
    "evaluate_model(y_test, test_pred_dt)"
   ]
  },
  {
   "cell_type": "markdown",
   "metadata": {},
   "source": [
    "# Random Forests"
   ]
  },
  {
   "cell_type": "code",
   "execution_count": 84,
   "metadata": {},
   "outputs": [],
   "source": [
    "clf_rf = RandomForestClassifier()"
   ]
  },
  {
   "cell_type": "code",
   "execution_count": 85,
   "metadata": {},
   "outputs": [
    {
     "data": {
      "text/plain": [
       "RandomForestClassifier()"
      ]
     },
     "execution_count": 85,
     "metadata": {},
     "output_type": "execute_result"
    }
   ],
   "source": [
    "clf_rf.fit(X=X_train_ohe, y=y_train)"
   ]
  },
  {
   "cell_type": "code",
   "execution_count": 86,
   "metadata": {},
   "outputs": [],
   "source": [
    "y_pred_train1 = clf_rf.predict(X_train_ohe)\n",
    "y_pred_test1 = clf_rf.predict(X_test_ohe)"
   ]
  },
  {
   "cell_type": "code",
   "execution_count": 87,
   "metadata": {},
   "outputs": [
    {
     "name": "stdout",
     "output_type": "stream",
     "text": [
      "\n",
      "            =========================================\n",
      "               CLASSIFICATION REPORT FOR TRAIN DATA\n",
      "            =========================================\n",
      "            \n",
      "              precision    recall  f1-score   support\n",
      "\n",
      "           0     0.6093    0.4760    0.5345      7239\n",
      "           1     0.6366    0.8588    0.7312     14274\n",
      "           2     0.6161    0.2530    0.3587      5767\n",
      "\n",
      "    accuracy                         0.6291     27280\n",
      "   macro avg     0.6207    0.5293    0.5414     27280\n",
      "weighted avg     0.6250    0.6291    0.6002     27280\n",
      "\n",
      "\n",
      "            =========================================\n",
      "               CLASSIFICATION REPORT FOR TEST DATA\n",
      "            =========================================\n",
      "            \n",
      "              precision    recall  f1-score   support\n",
      "\n",
      "           0     0.4255    0.3315    0.3727      1810\n",
      "           1     0.5710    0.7724    0.6566      3568\n",
      "           2     0.2624    0.1061    0.1511      1442\n",
      "\n",
      "    accuracy                         0.5145      6820\n",
      "   macro avg     0.4196    0.4033    0.3935      6820\n",
      "weighted avg     0.4671    0.5145    0.4744      6820\n",
      "\n"
     ]
    }
   ],
   "source": [
    "classifcation_report_train_test(y_train, y_pred_train1, y_test, y_pred_test1)"
   ]
  },
  {
   "cell_type": "code",
   "execution_count": 88,
   "metadata": {},
   "outputs": [
    {
     "data": {
      "text/html": [
       "<div>\n",
       "<style scoped>\n",
       "    .dataframe tbody tr th:only-of-type {\n",
       "        vertical-align: middle;\n",
       "    }\n",
       "\n",
       "    .dataframe tbody tr th {\n",
       "        vertical-align: top;\n",
       "    }\n",
       "\n",
       "    .dataframe thead th {\n",
       "        text-align: right;\n",
       "    }\n",
       "</style>\n",
       "<table border=\"1\" class=\"dataframe\">\n",
       "  <thead>\n",
       "    <tr style=\"text-align: right;\">\n",
       "      <th></th>\n",
       "      <th>Model</th>\n",
       "      <th>Train_Accuracy</th>\n",
       "      <th>Train_Recall</th>\n",
       "      <th>Train_Precision</th>\n",
       "      <th>Train_F1_Score</th>\n",
       "      <th>Test_Accuracy</th>\n",
       "      <th>Test_Recall</th>\n",
       "      <th>Test_Precision</th>\n",
       "      <th>Test_F1_Score</th>\n",
       "    </tr>\n",
       "  </thead>\n",
       "  <tbody>\n",
       "    <tr>\n",
       "      <th>0</th>\n",
       "      <td>DecisionTrees</td>\n",
       "      <td>0.547434</td>\n",
       "      <td>0.547434</td>\n",
       "      <td>0.636840</td>\n",
       "      <td>0.453001</td>\n",
       "      <td>0.547067</td>\n",
       "      <td>0.547067</td>\n",
       "      <td>0.424708</td>\n",
       "      <td>0.453322</td>\n",
       "    </tr>\n",
       "    <tr>\n",
       "      <th>1</th>\n",
       "      <td>RandomForest</td>\n",
       "      <td>0.629142</td>\n",
       "      <td>0.629142</td>\n",
       "      <td>0.625009</td>\n",
       "      <td>0.600231</td>\n",
       "      <td>0.514516</td>\n",
       "      <td>0.514516</td>\n",
       "      <td>0.467128</td>\n",
       "      <td>0.474358</td>\n",
       "    </tr>\n",
       "  </tbody>\n",
       "</table>\n",
       "</div>"
      ],
      "text/plain": [
       "           Model  Train_Accuracy  Train_Recall  Train_Precision  \\\n",
       "0  DecisionTrees        0.547434      0.547434         0.636840   \n",
       "1   RandomForest        0.629142      0.629142         0.625009   \n",
       "\n",
       "   Train_F1_Score  Test_Accuracy  Test_Recall  Test_Precision  Test_F1_Score  \n",
       "0        0.453001       0.547067     0.547067        0.424708       0.453322  \n",
       "1        0.600231       0.514516     0.514516        0.467128       0.474358  "
      ]
     },
     "execution_count": 88,
     "metadata": {},
     "output_type": "execute_result"
    }
   ],
   "source": [
    "scores = get_metrics(y_train, y_pred_train1, y_test, y_pred_test1, \"RandomForest\", scores)\n",
    "scores"
   ]
  },
  {
   "cell_type": "markdown",
   "metadata": {},
   "source": [
    "# AdaBoost"
   ]
  },
  {
   "cell_type": "code",
   "execution_count": 89,
   "metadata": {},
   "outputs": [],
   "source": [
    "clf_adaboost =  AdaBoostClassifier()"
   ]
  },
  {
   "cell_type": "code",
   "execution_count": 90,
   "metadata": {},
   "outputs": [
    {
     "data": {
      "text/plain": [
       "AdaBoostClassifier()"
      ]
     },
     "execution_count": 90,
     "metadata": {},
     "output_type": "execute_result"
    }
   ],
   "source": [
    "clf_adaboost.fit(X_train_ohe, y_train)"
   ]
  },
  {
   "cell_type": "code",
   "execution_count": 91,
   "metadata": {},
   "outputs": [],
   "source": [
    "y_pred_train2 = clf_adaboost.predict(X_train_ohe)\n",
    "y_pred_test2 = clf_adaboost.predict(X_test_ohe)"
   ]
  },
  {
   "cell_type": "code",
   "execution_count": 92,
   "metadata": {},
   "outputs": [
    {
     "name": "stdout",
     "output_type": "stream",
     "text": [
      "\n",
      "            =========================================\n",
      "               CLASSIFICATION REPORT FOR TRAIN DATA\n",
      "            =========================================\n",
      "            \n",
      "              precision    recall  f1-score   support\n",
      "\n",
      "           0     0.4042    0.2085    0.2751      7239\n",
      "           1     0.5377    0.8846    0.6688     14274\n",
      "           2     0.3492    0.0038    0.0075      5767\n",
      "\n",
      "    accuracy                         0.5190     27280\n",
      "   macro avg     0.4304    0.3656    0.3171     27280\n",
      "weighted avg     0.4624    0.5190    0.4245     27280\n",
      "\n",
      "\n",
      "            =========================================\n",
      "               CLASSIFICATION REPORT FOR TEST DATA\n",
      "            =========================================\n",
      "            \n",
      "              precision    recall  f1-score   support\n",
      "\n",
      "           0     0.4027    0.2105    0.2765      1810\n",
      "           1     0.5354    0.8795    0.6656      3568\n",
      "           2     0.3077    0.0028    0.0055      1442\n",
      "\n",
      "    accuracy                         0.5166      6820\n",
      "   macro avg     0.4153    0.3643    0.3159      6820\n",
      "weighted avg     0.4521    0.5166    0.4228      6820\n",
      "\n"
     ]
    }
   ],
   "source": [
    "classifcation_report_train_test(y_train, y_pred_train2, y_test, y_pred_test2)"
   ]
  },
  {
   "cell_type": "code",
   "execution_count": 93,
   "metadata": {},
   "outputs": [
    {
     "data": {
      "text/html": [
       "<div>\n",
       "<style scoped>\n",
       "    .dataframe tbody tr th:only-of-type {\n",
       "        vertical-align: middle;\n",
       "    }\n",
       "\n",
       "    .dataframe tbody tr th {\n",
       "        vertical-align: top;\n",
       "    }\n",
       "\n",
       "    .dataframe thead th {\n",
       "        text-align: right;\n",
       "    }\n",
       "</style>\n",
       "<table border=\"1\" class=\"dataframe\">\n",
       "  <thead>\n",
       "    <tr style=\"text-align: right;\">\n",
       "      <th></th>\n",
       "      <th>Model</th>\n",
       "      <th>Train_Accuracy</th>\n",
       "      <th>Train_Recall</th>\n",
       "      <th>Train_Precision</th>\n",
       "      <th>Train_F1_Score</th>\n",
       "      <th>Test_Accuracy</th>\n",
       "      <th>Test_Recall</th>\n",
       "      <th>Test_Precision</th>\n",
       "      <th>Test_F1_Score</th>\n",
       "    </tr>\n",
       "  </thead>\n",
       "  <tbody>\n",
       "    <tr>\n",
       "      <th>0</th>\n",
       "      <td>DecisionTrees</td>\n",
       "      <td>0.547434</td>\n",
       "      <td>0.547434</td>\n",
       "      <td>0.636840</td>\n",
       "      <td>0.453001</td>\n",
       "      <td>0.547067</td>\n",
       "      <td>0.547067</td>\n",
       "      <td>0.424708</td>\n",
       "      <td>0.453322</td>\n",
       "    </tr>\n",
       "    <tr>\n",
       "      <th>1</th>\n",
       "      <td>RandomForest</td>\n",
       "      <td>0.629142</td>\n",
       "      <td>0.629142</td>\n",
       "      <td>0.625009</td>\n",
       "      <td>0.600231</td>\n",
       "      <td>0.514516</td>\n",
       "      <td>0.514516</td>\n",
       "      <td>0.467128</td>\n",
       "      <td>0.474358</td>\n",
       "    </tr>\n",
       "    <tr>\n",
       "      <th>2</th>\n",
       "      <td>Adaboost</td>\n",
       "      <td>0.518988</td>\n",
       "      <td>0.518988</td>\n",
       "      <td>0.462428</td>\n",
       "      <td>0.424550</td>\n",
       "      <td>0.516569</td>\n",
       "      <td>0.516569</td>\n",
       "      <td>0.452051</td>\n",
       "      <td>0.422764</td>\n",
       "    </tr>\n",
       "  </tbody>\n",
       "</table>\n",
       "</div>"
      ],
      "text/plain": [
       "           Model  Train_Accuracy  Train_Recall  Train_Precision  \\\n",
       "0  DecisionTrees        0.547434      0.547434         0.636840   \n",
       "1   RandomForest        0.629142      0.629142         0.625009   \n",
       "2       Adaboost        0.518988      0.518988         0.462428   \n",
       "\n",
       "   Train_F1_Score  Test_Accuracy  Test_Recall  Test_Precision  Test_F1_Score  \n",
       "0        0.453001       0.547067     0.547067        0.424708       0.453322  \n",
       "1        0.600231       0.514516     0.514516        0.467128       0.474358  \n",
       "2        0.424550       0.516569     0.516569        0.452051       0.422764  "
      ]
     },
     "execution_count": 93,
     "metadata": {},
     "output_type": "execute_result"
    }
   ],
   "source": [
    "scores = get_metrics(y_train, y_pred_train2, y_test, y_pred_test2, \"Adaboost\", scores)\n",
    "scores"
   ]
  },
  {
   "cell_type": "markdown",
   "metadata": {},
   "source": [
    "# Build Gradient Boosting Classifier"
   ]
  },
  {
   "cell_type": "code",
   "execution_count": 94,
   "metadata": {},
   "outputs": [],
   "source": [
    "clf_gbm = GradientBoostingClassifier()"
   ]
  },
  {
   "cell_type": "code",
   "execution_count": 95,
   "metadata": {},
   "outputs": [
    {
     "data": {
      "text/plain": [
       "GradientBoostingClassifier()"
      ]
     },
     "execution_count": 95,
     "metadata": {},
     "output_type": "execute_result"
    }
   ],
   "source": [
    "clf_gbm.fit(X=X_train_ohe, y=y_train)"
   ]
  },
  {
   "cell_type": "code",
   "execution_count": 96,
   "metadata": {},
   "outputs": [],
   "source": [
    "y_pred_train3 = clf_gbm.predict(X_train_ohe)\n",
    "y_pred_test3 = clf_gbm.predict(X_test_ohe)"
   ]
  },
  {
   "cell_type": "code",
   "execution_count": 97,
   "metadata": {},
   "outputs": [
    {
     "name": "stdout",
     "output_type": "stream",
     "text": [
      "\n",
      "            =========================================\n",
      "               CLASSIFICATION REPORT FOR TRAIN DATA\n",
      "            =========================================\n",
      "            \n",
      "              precision    recall  f1-score   support\n",
      "\n",
      "           0     0.5509    0.2685    0.3611      7239\n",
      "           1     0.5539    0.9185    0.6910     14274\n",
      "           2     0.5190    0.0071    0.0140      5767\n",
      "\n",
      "    accuracy                         0.5534     27280\n",
      "   macro avg     0.5412    0.3981    0.3554     27280\n",
      "weighted avg     0.5457    0.5534    0.4604     27280\n",
      "\n",
      "\n",
      "            =========================================\n",
      "               CLASSIFICATION REPORT FOR TEST DATA\n",
      "            =========================================\n",
      "            \n",
      "              precision    recall  f1-score   support\n",
      "\n",
      "           0     0.5387    0.2613    0.3519      1810\n",
      "           1     0.5519    0.9156    0.6887      3568\n",
      "           2     0.4545    0.0069    0.0137      1442\n",
      "\n",
      "    accuracy                         0.5499      6820\n",
      "   macro avg     0.5150    0.3946    0.3514      6820\n",
      "weighted avg     0.5278    0.5499    0.4566      6820\n",
      "\n"
     ]
    }
   ],
   "source": [
    "classifcation_report_train_test(y_train, y_pred_train3, y_test, y_pred_test3)"
   ]
  },
  {
   "cell_type": "code",
   "execution_count": 98,
   "metadata": {},
   "outputs": [
    {
     "data": {
      "text/html": [
       "<div>\n",
       "<style scoped>\n",
       "    .dataframe tbody tr th:only-of-type {\n",
       "        vertical-align: middle;\n",
       "    }\n",
       "\n",
       "    .dataframe tbody tr th {\n",
       "        vertical-align: top;\n",
       "    }\n",
       "\n",
       "    .dataframe thead th {\n",
       "        text-align: right;\n",
       "    }\n",
       "</style>\n",
       "<table border=\"1\" class=\"dataframe\">\n",
       "  <thead>\n",
       "    <tr style=\"text-align: right;\">\n",
       "      <th></th>\n",
       "      <th>Model</th>\n",
       "      <th>Train_Accuracy</th>\n",
       "      <th>Train_Recall</th>\n",
       "      <th>Train_Precision</th>\n",
       "      <th>Train_F1_Score</th>\n",
       "      <th>Test_Accuracy</th>\n",
       "      <th>Test_Recall</th>\n",
       "      <th>Test_Precision</th>\n",
       "      <th>Test_F1_Score</th>\n",
       "    </tr>\n",
       "  </thead>\n",
       "  <tbody>\n",
       "    <tr>\n",
       "      <th>0</th>\n",
       "      <td>DecisionTrees</td>\n",
       "      <td>0.547434</td>\n",
       "      <td>0.547434</td>\n",
       "      <td>0.636840</td>\n",
       "      <td>0.453001</td>\n",
       "      <td>0.547067</td>\n",
       "      <td>0.547067</td>\n",
       "      <td>0.424708</td>\n",
       "      <td>0.453322</td>\n",
       "    </tr>\n",
       "    <tr>\n",
       "      <th>1</th>\n",
       "      <td>RandomForest</td>\n",
       "      <td>0.629142</td>\n",
       "      <td>0.629142</td>\n",
       "      <td>0.625009</td>\n",
       "      <td>0.600231</td>\n",
       "      <td>0.514516</td>\n",
       "      <td>0.514516</td>\n",
       "      <td>0.467128</td>\n",
       "      <td>0.474358</td>\n",
       "    </tr>\n",
       "    <tr>\n",
       "      <th>2</th>\n",
       "      <td>Adaboost</td>\n",
       "      <td>0.518988</td>\n",
       "      <td>0.518988</td>\n",
       "      <td>0.462428</td>\n",
       "      <td>0.424550</td>\n",
       "      <td>0.516569</td>\n",
       "      <td>0.516569</td>\n",
       "      <td>0.452051</td>\n",
       "      <td>0.422764</td>\n",
       "    </tr>\n",
       "    <tr>\n",
       "      <th>3</th>\n",
       "      <td>GBM</td>\n",
       "      <td>0.553372</td>\n",
       "      <td>0.553372</td>\n",
       "      <td>0.545694</td>\n",
       "      <td>0.460356</td>\n",
       "      <td>0.549853</td>\n",
       "      <td>0.549853</td>\n",
       "      <td>0.527797</td>\n",
       "      <td>0.456574</td>\n",
       "    </tr>\n",
       "  </tbody>\n",
       "</table>\n",
       "</div>"
      ],
      "text/plain": [
       "           Model  Train_Accuracy  Train_Recall  Train_Precision  \\\n",
       "0  DecisionTrees        0.547434      0.547434         0.636840   \n",
       "1   RandomForest        0.629142      0.629142         0.625009   \n",
       "2       Adaboost        0.518988      0.518988         0.462428   \n",
       "3            GBM        0.553372      0.553372         0.545694   \n",
       "\n",
       "   Train_F1_Score  Test_Accuracy  Test_Recall  Test_Precision  Test_F1_Score  \n",
       "0        0.453001       0.547067     0.547067        0.424708       0.453322  \n",
       "1        0.600231       0.514516     0.514516        0.467128       0.474358  \n",
       "2        0.424550       0.516569     0.516569        0.452051       0.422764  \n",
       "3        0.460356       0.549853     0.549853        0.527797       0.456574  "
      ]
     },
     "execution_count": 98,
     "metadata": {},
     "output_type": "execute_result"
    }
   ],
   "source": [
    "scores = get_metrics(y_train, y_pred_train3, y_test, y_pred_test3, \"GBM\", scores)\n",
    "scores"
   ]
  },
  {
   "cell_type": "markdown",
   "metadata": {},
   "source": [
    "# XGBOOST"
   ]
  },
  {
   "cell_type": "code",
   "execution_count": 99,
   "metadata": {},
   "outputs": [],
   "source": [
    "from xgboost import XGBClassifier"
   ]
  },
  {
   "cell_type": "code",
   "execution_count": 100,
   "metadata": {},
   "outputs": [],
   "source": [
    "clf_xgb = XGBClassifier()"
   ]
  },
  {
   "cell_type": "code",
   "execution_count": 101,
   "metadata": {},
   "outputs": [
    {
     "name": "stdout",
     "output_type": "stream",
     "text": [
      "[18:39:57] WARNING: ../src/learner.cc:1061: Starting in XGBoost 1.3.0, the default evaluation metric used with the objective 'multi:softprob' was changed from 'merror' to 'mlogloss'. Explicitly set eval_metric if you'd like to restore the old behavior.\n"
     ]
    },
    {
     "data": {
      "text/plain": [
       "XGBClassifier(base_score=0.5, booster='gbtree', colsample_bylevel=1,\n",
       "              colsample_bynode=1, colsample_bytree=1, gamma=0, gpu_id=-1,\n",
       "              importance_type='gain', interaction_constraints='',\n",
       "              learning_rate=0.300000012, max_delta_step=0, max_depth=6,\n",
       "              min_child_weight=1, missing=nan, monotone_constraints='()',\n",
       "              n_estimators=100, n_jobs=4, num_parallel_tree=1,\n",
       "              objective='multi:softprob', random_state=0, reg_alpha=0,\n",
       "              reg_lambda=1, scale_pos_weight=None, subsample=1,\n",
       "              tree_method='exact', validate_parameters=1, verbosity=None)"
      ]
     },
     "execution_count": 101,
     "metadata": {},
     "output_type": "execute_result"
    }
   ],
   "source": [
    "clf_xgb.fit(X_train_ohe, y_train)"
   ]
  },
  {
   "cell_type": "code",
   "execution_count": 102,
   "metadata": {},
   "outputs": [],
   "source": [
    "y_pred_train4 = clf_xgb.predict(X_train_ohe)\n",
    "y_pred_test4 = clf_xgb.predict(X_test_ohe)"
   ]
  },
  {
   "cell_type": "code",
   "execution_count": 103,
   "metadata": {},
   "outputs": [
    {
     "data": {
      "text/html": [
       "<div>\n",
       "<style scoped>\n",
       "    .dataframe tbody tr th:only-of-type {\n",
       "        vertical-align: middle;\n",
       "    }\n",
       "\n",
       "    .dataframe tbody tr th {\n",
       "        vertical-align: top;\n",
       "    }\n",
       "\n",
       "    .dataframe thead th {\n",
       "        text-align: right;\n",
       "    }\n",
       "</style>\n",
       "<table border=\"1\" class=\"dataframe\">\n",
       "  <thead>\n",
       "    <tr style=\"text-align: right;\">\n",
       "      <th></th>\n",
       "      <th>Model</th>\n",
       "      <th>Train_Accuracy</th>\n",
       "      <th>Train_Recall</th>\n",
       "      <th>Train_Precision</th>\n",
       "      <th>Train_F1_Score</th>\n",
       "      <th>Test_Accuracy</th>\n",
       "      <th>Test_Recall</th>\n",
       "      <th>Test_Precision</th>\n",
       "      <th>Test_F1_Score</th>\n",
       "    </tr>\n",
       "  </thead>\n",
       "  <tbody>\n",
       "    <tr>\n",
       "      <th>0</th>\n",
       "      <td>DecisionTrees</td>\n",
       "      <td>0.547434</td>\n",
       "      <td>0.547434</td>\n",
       "      <td>0.636840</td>\n",
       "      <td>0.453001</td>\n",
       "      <td>0.547067</td>\n",
       "      <td>0.547067</td>\n",
       "      <td>0.424708</td>\n",
       "      <td>0.453322</td>\n",
       "    </tr>\n",
       "    <tr>\n",
       "      <th>1</th>\n",
       "      <td>RandomForest</td>\n",
       "      <td>0.629142</td>\n",
       "      <td>0.629142</td>\n",
       "      <td>0.625009</td>\n",
       "      <td>0.600231</td>\n",
       "      <td>0.514516</td>\n",
       "      <td>0.514516</td>\n",
       "      <td>0.467128</td>\n",
       "      <td>0.474358</td>\n",
       "    </tr>\n",
       "    <tr>\n",
       "      <th>2</th>\n",
       "      <td>Adaboost</td>\n",
       "      <td>0.518988</td>\n",
       "      <td>0.518988</td>\n",
       "      <td>0.462428</td>\n",
       "      <td>0.424550</td>\n",
       "      <td>0.516569</td>\n",
       "      <td>0.516569</td>\n",
       "      <td>0.452051</td>\n",
       "      <td>0.422764</td>\n",
       "    </tr>\n",
       "    <tr>\n",
       "      <th>3</th>\n",
       "      <td>GBM</td>\n",
       "      <td>0.553372</td>\n",
       "      <td>0.553372</td>\n",
       "      <td>0.545694</td>\n",
       "      <td>0.460356</td>\n",
       "      <td>0.549853</td>\n",
       "      <td>0.549853</td>\n",
       "      <td>0.527797</td>\n",
       "      <td>0.456574</td>\n",
       "    </tr>\n",
       "    <tr>\n",
       "      <th>4</th>\n",
       "      <td>XGBoost</td>\n",
       "      <td>0.582918</td>\n",
       "      <td>0.582918</td>\n",
       "      <td>0.582120</td>\n",
       "      <td>0.520930</td>\n",
       "      <td>0.543842</td>\n",
       "      <td>0.543842</td>\n",
       "      <td>0.492097</td>\n",
       "      <td>0.473133</td>\n",
       "    </tr>\n",
       "  </tbody>\n",
       "</table>\n",
       "</div>"
      ],
      "text/plain": [
       "           Model  Train_Accuracy  Train_Recall  Train_Precision  \\\n",
       "0  DecisionTrees        0.547434      0.547434         0.636840   \n",
       "1   RandomForest        0.629142      0.629142         0.625009   \n",
       "2       Adaboost        0.518988      0.518988         0.462428   \n",
       "3            GBM        0.553372      0.553372         0.545694   \n",
       "4        XGBoost        0.582918      0.582918         0.582120   \n",
       "\n",
       "   Train_F1_Score  Test_Accuracy  Test_Recall  Test_Precision  Test_F1_Score  \n",
       "0        0.453001       0.547067     0.547067        0.424708       0.453322  \n",
       "1        0.600231       0.514516     0.514516        0.467128       0.474358  \n",
       "2        0.424550       0.516569     0.516569        0.452051       0.422764  \n",
       "3        0.460356       0.549853     0.549853        0.527797       0.456574  \n",
       "4        0.520930       0.543842     0.543842        0.492097       0.473133  "
      ]
     },
     "execution_count": 103,
     "metadata": {},
     "output_type": "execute_result"
    }
   ],
   "source": [
    "scores = get_metrics(y_train, y_pred_train4, y_test, y_pred_test4, \"XGBoost\", scores)\n",
    "scores"
   ]
  },
  {
   "cell_type": "code",
   "execution_count": 104,
   "metadata": {},
   "outputs": [
    {
     "name": "stdout",
     "output_type": "stream",
     "text": [
      "\n",
      "            =========================================\n",
      "               CLASSIFICATION REPORT FOR TRAIN DATA\n",
      "            =========================================\n",
      "            \n",
      "              precision    recall  f1-score   support\n",
      "\n",
      "           0     0.5676    0.3804    0.4555      7239\n",
      "           1     0.5861    0.8878    0.7060     14274\n",
      "           2     0.5906    0.0825    0.1448      5767\n",
      "\n",
      "    accuracy                         0.5829     27280\n",
      "   macro avg     0.5814    0.4502    0.4355     27280\n",
      "weighted avg     0.5821    0.5829    0.5209     27280\n",
      "\n",
      "\n",
      "            =========================================\n",
      "               CLASSIFICATION REPORT FOR TEST DATA\n",
      "            =========================================\n",
      "            \n",
      "              precision    recall  f1-score   support\n",
      "\n",
      "           0     0.4808    0.3188    0.3834      1810\n",
      "           1     0.5644    0.8624    0.6823      3568\n",
      "           2     0.3274    0.0381    0.0683      1442\n",
      "\n",
      "    accuracy                         0.5438      6820\n",
      "   macro avg     0.4575    0.4064    0.3780      6820\n",
      "weighted avg     0.4921    0.5438    0.4731      6820\n",
      "\n"
     ]
    }
   ],
   "source": [
    "classifcation_report_train_test(y_train, y_pred_train4, y_test, y_pred_test4)"
   ]
  },
  {
   "cell_type": "code",
   "execution_count": 1,
   "metadata": {},
   "outputs": [],
   "source": [
    "### Observation: GBM is performing better than all other models"
   ]
  },
  {
   "cell_type": "markdown",
   "metadata": {},
   "source": [
    "#### Predictions on Test dataset"
   ]
  },
  {
   "cell_type": "code",
   "execution_count": 105,
   "metadata": {},
   "outputs": [
    {
     "data": {
      "text/html": [
       "<div>\n",
       "<style scoped>\n",
       "    .dataframe tbody tr th:only-of-type {\n",
       "        vertical-align: middle;\n",
       "    }\n",
       "\n",
       "    .dataframe tbody tr th {\n",
       "        vertical-align: top;\n",
       "    }\n",
       "\n",
       "    .dataframe thead th {\n",
       "        text-align: right;\n",
       "    }\n",
       "</style>\n",
       "<table border=\"1\" class=\"dataframe\">\n",
       "  <thead>\n",
       "    <tr style=\"text-align: right;\">\n",
       "      <th></th>\n",
       "      <th>City</th>\n",
       "      <th>Enterprise Type</th>\n",
       "      <th>Claim Type</th>\n",
       "      <th>Claim Site</th>\n",
       "      <th>Product Insured</th>\n",
       "      <th>Reporting delay</th>\n",
       "    </tr>\n",
       "  </thead>\n",
       "  <tbody>\n",
       "    <tr>\n",
       "      <th>0</th>\n",
       "      <td>Pune</td>\n",
       "      <td>One Person Company</td>\n",
       "      <td>Property Loss</td>\n",
       "      <td>In Transit</td>\n",
       "      <td>Inventory - Finished Goods</td>\n",
       "      <td>96</td>\n",
       "    </tr>\n",
       "    <tr>\n",
       "      <th>1</th>\n",
       "      <td>Pune</td>\n",
       "      <td>Limited Liability Parterneship (LLP)</td>\n",
       "      <td>Property Loss</td>\n",
       "      <td>In Transit</td>\n",
       "      <td>Fixtures</td>\n",
       "      <td>291</td>\n",
       "    </tr>\n",
       "    <tr>\n",
       "      <th>2</th>\n",
       "      <td>Ahmedabad</td>\n",
       "      <td>Private Limited Company</td>\n",
       "      <td>Property Loss</td>\n",
       "      <td>Warehouse</td>\n",
       "      <td>Inventory - Raw Material</td>\n",
       "      <td>-220</td>\n",
       "    </tr>\n",
       "    <tr>\n",
       "      <th>3</th>\n",
       "      <td>Delhi</td>\n",
       "      <td>One Person Company</td>\n",
       "      <td>Property Damage</td>\n",
       "      <td>In Transit</td>\n",
       "      <td>Inventory - Finished Goods</td>\n",
       "      <td>-40</td>\n",
       "    </tr>\n",
       "    <tr>\n",
       "      <th>4</th>\n",
       "      <td>Pune</td>\n",
       "      <td>Private Limited Company</td>\n",
       "      <td>Property Damage</td>\n",
       "      <td>In Transit</td>\n",
       "      <td>Misc. Electronic Items</td>\n",
       "      <td>-72</td>\n",
       "    </tr>\n",
       "  </tbody>\n",
       "</table>\n",
       "</div>"
      ],
      "text/plain": [
       "        City                       Enterprise Type       Claim Type  \\\n",
       "0       Pune                    One Person Company    Property Loss   \n",
       "1       Pune  Limited Liability Parterneship (LLP)    Property Loss   \n",
       "2  Ahmedabad               Private Limited Company    Property Loss   \n",
       "3      Delhi                    One Person Company  Property Damage   \n",
       "4       Pune               Private Limited Company  Property Damage   \n",
       "\n",
       "   Claim Site             Product Insured  Reporting delay  \n",
       "0  In Transit  Inventory - Finished Goods               96  \n",
       "1  In Transit                    Fixtures              291  \n",
       "2   Warehouse    Inventory - Raw Material             -220  \n",
       "3  In Transit  Inventory - Finished Goods              -40  \n",
       "4  In Transit      Misc. Electronic Items              -72  "
      ]
     },
     "execution_count": 105,
     "metadata": {},
     "output_type": "execute_result"
    }
   ],
   "source": [
    "df_test.head()"
   ]
  },
  {
   "cell_type": "markdown",
   "metadata": {},
   "source": [
    "#### Using XGBoost"
   ]
  },
  {
   "cell_type": "code",
   "execution_count": 106,
   "metadata": {},
   "outputs": [],
   "source": [
    "final_test_pred = clf_xgb.predict(df_X_test_ohe)"
   ]
  },
  {
   "cell_type": "code",
   "execution_count": 107,
   "metadata": {},
   "outputs": [
    {
     "data": {
      "text/plain": [
       "array([1, 1, 1, ..., 1, 1, 1])"
      ]
     },
     "execution_count": 107,
     "metadata": {},
     "output_type": "execute_result"
    }
   ],
   "source": [
    "final_test_pred"
   ]
  },
  {
   "cell_type": "code",
   "execution_count": 108,
   "metadata": {},
   "outputs": [],
   "source": [
    "final_test_predictions = pd.DataFrame(final_test_pred,columns=['Disposition'])"
   ]
  },
  {
   "cell_type": "code",
   "execution_count": 109,
   "metadata": {},
   "outputs": [
    {
     "data": {
      "text/html": [
       "<div>\n",
       "<style scoped>\n",
       "    .dataframe tbody tr th:only-of-type {\n",
       "        vertical-align: middle;\n",
       "    }\n",
       "\n",
       "    .dataframe tbody tr th {\n",
       "        vertical-align: top;\n",
       "    }\n",
       "\n",
       "    .dataframe thead th {\n",
       "        text-align: right;\n",
       "    }\n",
       "</style>\n",
       "<table border=\"1\" class=\"dataframe\">\n",
       "  <thead>\n",
       "    <tr style=\"text-align: right;\">\n",
       "      <th></th>\n",
       "      <th>Disposition</th>\n",
       "    </tr>\n",
       "  </thead>\n",
       "  <tbody>\n",
       "    <tr>\n",
       "      <th>0</th>\n",
       "      <td>1</td>\n",
       "    </tr>\n",
       "    <tr>\n",
       "      <th>1</th>\n",
       "      <td>1</td>\n",
       "    </tr>\n",
       "    <tr>\n",
       "      <th>2</th>\n",
       "      <td>1</td>\n",
       "    </tr>\n",
       "    <tr>\n",
       "      <th>3</th>\n",
       "      <td>1</td>\n",
       "    </tr>\n",
       "    <tr>\n",
       "      <th>4</th>\n",
       "      <td>1</td>\n",
       "    </tr>\n",
       "  </tbody>\n",
       "</table>\n",
       "</div>"
      ],
      "text/plain": [
       "   Disposition\n",
       "0            1\n",
       "1            1\n",
       "2            1\n",
       "3            1\n",
       "4            1"
      ]
     },
     "execution_count": 109,
     "metadata": {},
     "output_type": "execute_result"
    }
   ],
   "source": [
    "final_test_predictions.head()"
   ]
  },
  {
   "cell_type": "code",
   "execution_count": 110,
   "metadata": {},
   "outputs": [
    {
     "data": {
      "text/plain": [
       "1    79.266684\n",
       "0    18.332894\n",
       "2     2.400422\n",
       "Name: Disposition, dtype: float64"
      ]
     },
     "execution_count": 110,
     "metadata": {},
     "output_type": "execute_result"
    }
   ],
   "source": [
    "final_test_predictions['Disposition'].value_counts(normalize=True)*100"
   ]
  },
  {
   "cell_type": "code",
   "execution_count": 111,
   "metadata": {},
   "outputs": [],
   "source": [
    "final_test_predictions.replace(to_replace =[1], value =\"Deny\",inplace=True)"
   ]
  },
  {
   "cell_type": "code",
   "execution_count": 112,
   "metadata": {},
   "outputs": [],
   "source": [
    "final_test_predictions.replace(to_replace =[0], value =\"Approve in Full\",inplace=True)"
   ]
  },
  {
   "cell_type": "code",
   "execution_count": 113,
   "metadata": {},
   "outputs": [],
   "source": [
    "final_test_predictions.replace(to_replace =[2], value =\"Settle\",inplace=True)"
   ]
  },
  {
   "cell_type": "code",
   "execution_count": 114,
   "metadata": {},
   "outputs": [
    {
     "data": {
      "text/plain": [
       "Deny               79.266684\n",
       "Approve in Full    18.332894\n",
       "Settle              2.400422\n",
       "Name: Disposition, dtype: float64"
      ]
     },
     "execution_count": 114,
     "metadata": {},
     "output_type": "execute_result"
    }
   ],
   "source": [
    "final_test_predictions['Disposition'].value_counts(normalize=True)*100"
   ]
  },
  {
   "cell_type": "code",
   "execution_count": 115,
   "metadata": {},
   "outputs": [
    {
     "data": {
      "text/plain": [
       "Disposition    3\n",
       "dtype: int64"
      ]
     },
     "execution_count": 115,
     "metadata": {},
     "output_type": "execute_result"
    }
   ],
   "source": [
    "final_test_predictions.nunique()"
   ]
  },
  {
   "cell_type": "code",
   "execution_count": 116,
   "metadata": {},
   "outputs": [],
   "source": [
    "final_test_predictions.to_csv('test_predictions2.csv')"
   ]
  },
  {
   "cell_type": "markdown",
   "metadata": {},
   "source": [
    "#### Using GBM"
   ]
  },
  {
   "cell_type": "code",
   "execution_count": 117,
   "metadata": {},
   "outputs": [],
   "source": [
    "final_test_pred_gbm = clf_gbm.predict(df_X_test_ohe)"
   ]
  },
  {
   "cell_type": "code",
   "execution_count": 118,
   "metadata": {},
   "outputs": [
    {
     "data": {
      "text/plain": [
       "array([0, 1, 1, ..., 1, 1, 1])"
      ]
     },
     "execution_count": 118,
     "metadata": {},
     "output_type": "execute_result"
    }
   ],
   "source": [
    "final_test_pred_gbm"
   ]
  },
  {
   "cell_type": "code",
   "execution_count": 119,
   "metadata": {},
   "outputs": [],
   "source": [
    "final_test_predictions_gbm = pd.DataFrame(final_test_pred_gbm,columns=['Disposition'])"
   ]
  },
  {
   "cell_type": "code",
   "execution_count": 120,
   "metadata": {},
   "outputs": [
    {
     "data": {
      "text/html": [
       "<div>\n",
       "<style scoped>\n",
       "    .dataframe tbody tr th:only-of-type {\n",
       "        vertical-align: middle;\n",
       "    }\n",
       "\n",
       "    .dataframe tbody tr th {\n",
       "        vertical-align: top;\n",
       "    }\n",
       "\n",
       "    .dataframe thead th {\n",
       "        text-align: right;\n",
       "    }\n",
       "</style>\n",
       "<table border=\"1\" class=\"dataframe\">\n",
       "  <thead>\n",
       "    <tr style=\"text-align: right;\">\n",
       "      <th></th>\n",
       "      <th>Disposition</th>\n",
       "    </tr>\n",
       "  </thead>\n",
       "  <tbody>\n",
       "    <tr>\n",
       "      <th>0</th>\n",
       "      <td>0</td>\n",
       "    </tr>\n",
       "    <tr>\n",
       "      <th>1</th>\n",
       "      <td>1</td>\n",
       "    </tr>\n",
       "    <tr>\n",
       "      <th>2</th>\n",
       "      <td>1</td>\n",
       "    </tr>\n",
       "    <tr>\n",
       "      <th>3</th>\n",
       "      <td>1</td>\n",
       "    </tr>\n",
       "    <tr>\n",
       "      <th>4</th>\n",
       "      <td>1</td>\n",
       "    </tr>\n",
       "  </tbody>\n",
       "</table>\n",
       "</div>"
      ],
      "text/plain": [
       "   Disposition\n",
       "0            0\n",
       "1            1\n",
       "2            1\n",
       "3            1\n",
       "4            1"
      ]
     },
     "execution_count": 120,
     "metadata": {},
     "output_type": "execute_result"
    }
   ],
   "source": [
    "final_test_predictions_gbm.head()"
   ]
  },
  {
   "cell_type": "code",
   "execution_count": 121,
   "metadata": {},
   "outputs": [
    {
     "data": {
      "text/plain": [
       "1    86.336059\n",
       "0    13.479293\n",
       "2     0.184648\n",
       "Name: Disposition, dtype: float64"
      ]
     },
     "execution_count": 121,
     "metadata": {},
     "output_type": "execute_result"
    }
   ],
   "source": [
    "final_test_predictions_gbm['Disposition'].value_counts(normalize=True)*100"
   ]
  },
  {
   "cell_type": "code",
   "execution_count": 122,
   "metadata": {},
   "outputs": [],
   "source": [
    "final_test_predictions_gbm.replace(to_replace =[1], value =\"Deny\",inplace=True)"
   ]
  },
  {
   "cell_type": "code",
   "execution_count": 123,
   "metadata": {},
   "outputs": [],
   "source": [
    "final_test_predictions_gbm.replace(to_replace =[0], value =\"Approve in Full\",inplace=True)"
   ]
  },
  {
   "cell_type": "code",
   "execution_count": 124,
   "metadata": {},
   "outputs": [],
   "source": [
    "final_test_predictions_gbm.replace(to_replace =[2], value =\"Settle\",inplace=True)"
   ]
  },
  {
   "cell_type": "code",
   "execution_count": 125,
   "metadata": {},
   "outputs": [
    {
     "data": {
      "text/plain": [
       "Deny               86.336059\n",
       "Approve in Full    13.479293\n",
       "Settle              0.184648\n",
       "Name: Disposition, dtype: float64"
      ]
     },
     "execution_count": 125,
     "metadata": {},
     "output_type": "execute_result"
    }
   ],
   "source": [
    "final_test_predictions_gbm['Disposition'].value_counts(normalize=True)*100"
   ]
  },
  {
   "cell_type": "code",
   "execution_count": 126,
   "metadata": {},
   "outputs": [
    {
     "data": {
      "text/plain": [
       "Disposition    3\n",
       "dtype: int64"
      ]
     },
     "execution_count": 126,
     "metadata": {},
     "output_type": "execute_result"
    }
   ],
   "source": [
    "final_test_predictions_gbm.nunique()"
   ]
  },
  {
   "cell_type": "code",
   "execution_count": 127,
   "metadata": {},
   "outputs": [],
   "source": [
    "final_test_predictions_gbm.to_csv('test_predictions3.csv')"
   ]
  }
 ],
 "metadata": {
  "kernelspec": {
   "display_name": "Python 3",
   "language": "python",
   "name": "python3"
  },
  "language_info": {
   "codemirror_mode": {
    "name": "ipython",
    "version": 3
   },
   "file_extension": ".py",
   "mimetype": "text/x-python",
   "name": "python",
   "nbconvert_exporter": "python",
   "pygments_lexer": "ipython3",
   "version": "3.6.5"
  }
 },
 "nbformat": 4,
 "nbformat_minor": 4
}
